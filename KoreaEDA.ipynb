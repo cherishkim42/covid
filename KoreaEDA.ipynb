{
  "nbformat": 4,
  "nbformat_minor": 0,
  "metadata": {
    "colab": {
      "name": "KoreaEDA.ipynb",
      "provenance": [],
      "collapsed_sections": [],
      "include_colab_link": true
    },
    "kernelspec": {
      "name": "python3",
      "display_name": "Python 3"
    },
    "accelerator": "GPU"
  },
  "cells": [
    {
      "cell_type": "markdown",
      "metadata": {
        "id": "view-in-github",
        "colab_type": "text"
      },
      "source": [
        "<a href=\"https://colab.research.google.com/github/cherishkim42/covid/blob/master/KoreaEDA.ipynb\" target=\"_parent\"><img src=\"https://colab.research.google.com/assets/colab-badge.svg\" alt=\"Open In Colab\"/></a>"
      ]
    },
    {
      "cell_type": "code",
      "metadata": {
        "id": "Qf07D77h3g2b",
        "colab_type": "code",
        "colab": {
          "base_uri": "https://localhost:8080/",
          "height": 131
        },
        "outputId": "6709140c-8864-4871-e7fc-66de35c310c2"
      },
      "source": [
        "# mounting Google Drive into runtime\n",
        "from google.colab import drive\n",
        "drive.mount('/content/gdrive')"
      ],
      "execution_count": 1,
      "outputs": [
        {
          "output_type": "stream",
          "text": [
            "Go to this URL in a browser: https://accounts.google.com/o/oauth2/auth?client_id=947318989803-6bn6qk8qdgf4n4g3pfee6491hc0brc4i.apps.googleusercontent.com&redirect_uri=urn%3aietf%3awg%3aoauth%3a2.0%3aoob&response_type=code&scope=email%20https%3a%2f%2fwww.googleapis.com%2fauth%2fdocs.test%20https%3a%2f%2fwww.googleapis.com%2fauth%2fdrive%20https%3a%2f%2fwww.googleapis.com%2fauth%2fdrive.photos.readonly%20https%3a%2f%2fwww.googleapis.com%2fauth%2fpeopleapi.readonly\n",
            "\n",
            "Enter your authorization code:\n",
            "··········\n",
            "Mounted at /content/gdrive\n"
          ],
          "name": "stdout"
        }
      ]
    },
    {
      "cell_type": "code",
      "metadata": {
        "id": "CPXzId1X3j1P",
        "colab_type": "code",
        "colab": {
          "base_uri": "https://localhost:8080/",
          "height": 74
        },
        "outputId": "9aca8f80-0bfc-4f57-fc11-cf83450d3f05"
      },
      "source": [
        "from scipy import stats\n",
        "import math\n",
        "import csv\n",
        "import numpy as np\n",
        "import pandas as pd\n",
        "import seaborn as sns\n",
        "import matplotlib.pyplot as plt\n",
        "sns.set(rc={'figure.figsize':(15,11)}) #standardize sizing for seaborn plots"
      ],
      "execution_count": 7,
      "outputs": [
        {
          "output_type": "stream",
          "text": [
            "/usr/local/lib/python3.6/dist-packages/statsmodels/tools/_testing.py:19: FutureWarning: pandas.util.testing is deprecated. Use the functions in the public API at pandas.testing instead.\n",
            "  import pandas.util.testing as tm\n"
          ],
          "name": "stderr"
        }
      ]
    },
    {
      "cell_type": "markdown",
      "metadata": {
        "id": "euZ0_ycVHzC3",
        "colab_type": "text"
      },
      "source": [
        "# South Korea\n",
        "\n",
        "### Questions to address:\n",
        "\n",
        "1. How has the rate of infection changed over time?\n",
        "1. How were the different regions of South Korea affected by the COVID-19 outbreak?\n",
        "1. What percentage of total confirmed is made up by Shincheonji?\n",
        "1. Demographically, who is the most vulnerable?\n",
        "1. What is the fatality rate?\n",
        "\n",
        "_Data courtesy of Korea Centers for Disease Control and Prevention (KCDC). Datasets found here ( https://www.kaggle.com/kimjihoo/coronavirusdataset/data ), although the collection is no longer being updated/maintained._"
      ]
    },
    {
      "cell_type": "markdown",
      "metadata": {
        "id": "jox8_X1xVWg8",
        "colab_type": "text"
      },
      "source": [
        "### How has the rate of infection changed over time?"
      ]
    },
    {
      "cell_type": "code",
      "metadata": {
        "id": "2EgYY8wqIExJ",
        "colab_type": "code",
        "colab": {
          "base_uri": "https://localhost:8080/",
          "height": 206
        },
        "outputId": "a91b9557-7144-477a-f02b-bd88541abeab"
      },
      "source": [
        "import pandas as pd\n",
        "time = pd.read_csv(\"/content/gdrive/My Drive/Colab Notebooks/data/korea/Time.csv\")\n",
        "time.head()"
      ],
      "execution_count": 2,
      "outputs": [
        {
          "output_type": "execute_result",
          "data": {
            "text/html": [
              "<div>\n",
              "<style scoped>\n",
              "    .dataframe tbody tr th:only-of-type {\n",
              "        vertical-align: middle;\n",
              "    }\n",
              "\n",
              "    .dataframe tbody tr th {\n",
              "        vertical-align: top;\n",
              "    }\n",
              "\n",
              "    .dataframe thead th {\n",
              "        text-align: right;\n",
              "    }\n",
              "</style>\n",
              "<table border=\"1\" class=\"dataframe\">\n",
              "  <thead>\n",
              "    <tr style=\"text-align: right;\">\n",
              "      <th></th>\n",
              "      <th>date</th>\n",
              "      <th>time</th>\n",
              "      <th>test</th>\n",
              "      <th>negative</th>\n",
              "      <th>confirmed</th>\n",
              "      <th>released</th>\n",
              "      <th>deceased</th>\n",
              "    </tr>\n",
              "  </thead>\n",
              "  <tbody>\n",
              "    <tr>\n",
              "      <th>0</th>\n",
              "      <td>2020-01-20</td>\n",
              "      <td>16</td>\n",
              "      <td>1</td>\n",
              "      <td>0</td>\n",
              "      <td>1</td>\n",
              "      <td>0</td>\n",
              "      <td>0</td>\n",
              "    </tr>\n",
              "    <tr>\n",
              "      <th>1</th>\n",
              "      <td>2020-01-21</td>\n",
              "      <td>16</td>\n",
              "      <td>1</td>\n",
              "      <td>0</td>\n",
              "      <td>1</td>\n",
              "      <td>0</td>\n",
              "      <td>0</td>\n",
              "    </tr>\n",
              "    <tr>\n",
              "      <th>2</th>\n",
              "      <td>2020-01-22</td>\n",
              "      <td>16</td>\n",
              "      <td>4</td>\n",
              "      <td>3</td>\n",
              "      <td>1</td>\n",
              "      <td>0</td>\n",
              "      <td>0</td>\n",
              "    </tr>\n",
              "    <tr>\n",
              "      <th>3</th>\n",
              "      <td>2020-01-23</td>\n",
              "      <td>16</td>\n",
              "      <td>22</td>\n",
              "      <td>21</td>\n",
              "      <td>1</td>\n",
              "      <td>0</td>\n",
              "      <td>0</td>\n",
              "    </tr>\n",
              "    <tr>\n",
              "      <th>4</th>\n",
              "      <td>2020-01-24</td>\n",
              "      <td>16</td>\n",
              "      <td>27</td>\n",
              "      <td>25</td>\n",
              "      <td>2</td>\n",
              "      <td>0</td>\n",
              "      <td>0</td>\n",
              "    </tr>\n",
              "  </tbody>\n",
              "</table>\n",
              "</div>"
            ],
            "text/plain": [
              "         date  time  test  negative  confirmed  released  deceased\n",
              "0  2020-01-20    16     1         0          1         0         0\n",
              "1  2020-01-21    16     1         0          1         0         0\n",
              "2  2020-01-22    16     4         3          1         0         0\n",
              "3  2020-01-23    16    22        21          1         0         0\n",
              "4  2020-01-24    16    27        25          2         0         0"
            ]
          },
          "metadata": {
            "tags": []
          },
          "execution_count": 2
        }
      ]
    },
    {
      "cell_type": "code",
      "metadata": {
        "id": "Bci8RviNMEqJ",
        "colab_type": "code",
        "colab": {
          "base_uri": "https://localhost:8080/",
          "height": 167
        },
        "outputId": "5a3fc6b1-4d04-4be8-925d-a8e0494d5f4a"
      },
      "source": [
        "time.dtypes"
      ],
      "execution_count": 3,
      "outputs": [
        {
          "output_type": "execute_result",
          "data": {
            "text/plain": [
              "date         object\n",
              "time          int64\n",
              "test          int64\n",
              "negative      int64\n",
              "confirmed     int64\n",
              "released      int64\n",
              "deceased      int64\n",
              "dtype: object"
            ]
          },
          "metadata": {
            "tags": []
          },
          "execution_count": 3
        }
      ]
    },
    {
      "cell_type": "code",
      "metadata": {
        "id": "Y8kXjgEkPDGr",
        "colab_type": "code",
        "colab": {
          "base_uri": "https://localhost:8080/",
          "height": 167
        },
        "outputId": "7a8520ed-541d-437d-9901-6a6badb91211"
      },
      "source": [
        "time['date'] = pd.to_datetime(time['date'])\n",
        "time.dtypes"
      ],
      "execution_count": 4,
      "outputs": [
        {
          "output_type": "execute_result",
          "data": {
            "text/plain": [
              "date         datetime64[ns]\n",
              "time                  int64\n",
              "test                  int64\n",
              "negative              int64\n",
              "confirmed             int64\n",
              "released              int64\n",
              "deceased              int64\n",
              "dtype: object"
            ]
          },
          "metadata": {
            "tags": []
          },
          "execution_count": 4
        }
      ]
    },
    {
      "cell_type": "code",
      "metadata": {
        "id": "Pk7GGf0dPHfL",
        "colab_type": "code",
        "colab": {
          "base_uri": "https://localhost:8080/",
          "height": 206
        },
        "outputId": "c9253b28-6c97-4cab-fb2a-a11e43befc4a"
      },
      "source": [
        "time.head()"
      ],
      "execution_count": 5,
      "outputs": [
        {
          "output_type": "execute_result",
          "data": {
            "text/html": [
              "<div>\n",
              "<style scoped>\n",
              "    .dataframe tbody tr th:only-of-type {\n",
              "        vertical-align: middle;\n",
              "    }\n",
              "\n",
              "    .dataframe tbody tr th {\n",
              "        vertical-align: top;\n",
              "    }\n",
              "\n",
              "    .dataframe thead th {\n",
              "        text-align: right;\n",
              "    }\n",
              "</style>\n",
              "<table border=\"1\" class=\"dataframe\">\n",
              "  <thead>\n",
              "    <tr style=\"text-align: right;\">\n",
              "      <th></th>\n",
              "      <th>date</th>\n",
              "      <th>time</th>\n",
              "      <th>test</th>\n",
              "      <th>negative</th>\n",
              "      <th>confirmed</th>\n",
              "      <th>released</th>\n",
              "      <th>deceased</th>\n",
              "    </tr>\n",
              "  </thead>\n",
              "  <tbody>\n",
              "    <tr>\n",
              "      <th>0</th>\n",
              "      <td>2020-01-20</td>\n",
              "      <td>16</td>\n",
              "      <td>1</td>\n",
              "      <td>0</td>\n",
              "      <td>1</td>\n",
              "      <td>0</td>\n",
              "      <td>0</td>\n",
              "    </tr>\n",
              "    <tr>\n",
              "      <th>1</th>\n",
              "      <td>2020-01-21</td>\n",
              "      <td>16</td>\n",
              "      <td>1</td>\n",
              "      <td>0</td>\n",
              "      <td>1</td>\n",
              "      <td>0</td>\n",
              "      <td>0</td>\n",
              "    </tr>\n",
              "    <tr>\n",
              "      <th>2</th>\n",
              "      <td>2020-01-22</td>\n",
              "      <td>16</td>\n",
              "      <td>4</td>\n",
              "      <td>3</td>\n",
              "      <td>1</td>\n",
              "      <td>0</td>\n",
              "      <td>0</td>\n",
              "    </tr>\n",
              "    <tr>\n",
              "      <th>3</th>\n",
              "      <td>2020-01-23</td>\n",
              "      <td>16</td>\n",
              "      <td>22</td>\n",
              "      <td>21</td>\n",
              "      <td>1</td>\n",
              "      <td>0</td>\n",
              "      <td>0</td>\n",
              "    </tr>\n",
              "    <tr>\n",
              "      <th>4</th>\n",
              "      <td>2020-01-24</td>\n",
              "      <td>16</td>\n",
              "      <td>27</td>\n",
              "      <td>25</td>\n",
              "      <td>2</td>\n",
              "      <td>0</td>\n",
              "      <td>0</td>\n",
              "    </tr>\n",
              "  </tbody>\n",
              "</table>\n",
              "</div>"
            ],
            "text/plain": [
              "        date  time  test  negative  confirmed  released  deceased\n",
              "0 2020-01-20    16     1         0          1         0         0\n",
              "1 2020-01-21    16     1         0          1         0         0\n",
              "2 2020-01-22    16     4         3          1         0         0\n",
              "3 2020-01-23    16    22        21          1         0         0\n",
              "4 2020-01-24    16    27        25          2         0         0"
            ]
          },
          "metadata": {
            "tags": []
          },
          "execution_count": 5
        }
      ]
    },
    {
      "cell_type": "code",
      "metadata": {
        "id": "JBAgZ1yPPKIS",
        "colab_type": "code",
        "colab": {
          "base_uri": "https://localhost:8080/",
          "height": 544
        },
        "outputId": "d5132f3e-6c75-4f1f-f141-de119de5f9f5"
      },
      "source": [
        "plt.plot(time['date'], time['confirmed'])\n",
        "plt.show()"
      ],
      "execution_count": 8,
      "outputs": [
        {
          "output_type": "display_data",
          "data": {
            "image/png": "[encoded data removed]",
            "text/plain": [
              "<Figure size 1080x792 with 1 Axes>"
            ]
          },
          "metadata": {
            "tags": []
          }
        }
      ]
    },
    {
      "cell_type": "markdown",
      "metadata": {
        "id": "Qw5FrmxsSFeY",
        "colab_type": "text"
      },
      "source": [
        "After an initial spike of cases in March, South Korea successfully managed to \"flatten the curve\" by the start of April. The curve stayed mostly flattened until between May and July, at which point we begin to see an increase in cases once more in the visual above."
      ]
    },
    {
      "cell_type": "markdown",
      "metadata": {
        "id": "m9AbYBZGVaEZ",
        "colab_type": "text"
      },
      "source": [
        "### How were the different regions of South Korea affected by the COVID-19 outbreak?"
      ]
    },
    {
      "cell_type": "code",
      "metadata": {
        "id": "szM4a3pVVla9",
        "colab_type": "code",
        "colab": {
          "base_uri": "https://localhost:8080/",
          "height": 223
        },
        "outputId": "6f8af2ba-e1ca-42a0-be22-fe86a195898d"
      },
      "source": [
        "case = pd.read_csv(\"/content/gdrive/My Drive/Colab Notebooks/data/korea/Case.csv\")\n",
        "case.head()"
      ],
      "execution_count": 11,
      "outputs": [
        {
          "output_type": "execute_result",
          "data": {
            "text/html": [
              "<div>\n",
              "<style scoped>\n",
              "    .dataframe tbody tr th:only-of-type {\n",
              "        vertical-align: middle;\n",
              "    }\n",
              "\n",
              "    .dataframe tbody tr th {\n",
              "        vertical-align: top;\n",
              "    }\n",
              "\n",
              "    .dataframe thead th {\n",
              "        text-align: right;\n",
              "    }\n",
              "</style>\n",
              "<table border=\"1\" class=\"dataframe\">\n",
              "  <thead>\n",
              "    <tr style=\"text-align: right;\">\n",
              "      <th></th>\n",
              "      <th>case_id</th>\n",
              "      <th>province</th>\n",
              "      <th>city</th>\n",
              "      <th>group</th>\n",
              "      <th>infection_case</th>\n",
              "      <th>confirmed</th>\n",
              "      <th>latitude</th>\n",
              "      <th>longitude</th>\n",
              "    </tr>\n",
              "  </thead>\n",
              "  <tbody>\n",
              "    <tr>\n",
              "      <th>0</th>\n",
              "      <td>1000001</td>\n",
              "      <td>Seoul</td>\n",
              "      <td>Yongsan-gu</td>\n",
              "      <td>True</td>\n",
              "      <td>Itaewon Clubs</td>\n",
              "      <td>139</td>\n",
              "      <td>37.538621</td>\n",
              "      <td>126.992652</td>\n",
              "    </tr>\n",
              "    <tr>\n",
              "      <th>1</th>\n",
              "      <td>1000002</td>\n",
              "      <td>Seoul</td>\n",
              "      <td>Gwanak-gu</td>\n",
              "      <td>True</td>\n",
              "      <td>Richway</td>\n",
              "      <td>119</td>\n",
              "      <td>37.48208</td>\n",
              "      <td>126.901384</td>\n",
              "    </tr>\n",
              "    <tr>\n",
              "      <th>2</th>\n",
              "      <td>1000003</td>\n",
              "      <td>Seoul</td>\n",
              "      <td>Guro-gu</td>\n",
              "      <td>True</td>\n",
              "      <td>Guro-gu Call Center</td>\n",
              "      <td>95</td>\n",
              "      <td>37.508163</td>\n",
              "      <td>126.884387</td>\n",
              "    </tr>\n",
              "    <tr>\n",
              "      <th>3</th>\n",
              "      <td>1000004</td>\n",
              "      <td>Seoul</td>\n",
              "      <td>Yangcheon-gu</td>\n",
              "      <td>True</td>\n",
              "      <td>Yangcheon Table Tennis Club</td>\n",
              "      <td>43</td>\n",
              "      <td>37.546061</td>\n",
              "      <td>126.874209</td>\n",
              "    </tr>\n",
              "    <tr>\n",
              "      <th>4</th>\n",
              "      <td>1000005</td>\n",
              "      <td>Seoul</td>\n",
              "      <td>Dobong-gu</td>\n",
              "      <td>True</td>\n",
              "      <td>Day Care Center</td>\n",
              "      <td>43</td>\n",
              "      <td>37.679422</td>\n",
              "      <td>127.044374</td>\n",
              "    </tr>\n",
              "  </tbody>\n",
              "</table>\n",
              "</div>"
            ],
            "text/plain": [
              "    case_id province          city  ...  confirmed   latitude   longitude\n",
              "0   1000001    Seoul    Yongsan-gu  ...        139  37.538621  126.992652\n",
              "1   1000002    Seoul     Gwanak-gu  ...        119   37.48208  126.901384\n",
              "2   1000003    Seoul       Guro-gu  ...         95  37.508163  126.884387\n",
              "3   1000004    Seoul  Yangcheon-gu  ...         43  37.546061  126.874209\n",
              "4   1000005    Seoul     Dobong-gu  ...         43  37.679422  127.044374\n",
              "\n",
              "[5 rows x 8 columns]"
            ]
          },
          "metadata": {
            "tags": []
          },
          "execution_count": 11
        }
      ]
    },
    {
      "cell_type": "code",
      "metadata": {
        "id": "yg7jDBotR2E5",
        "colab_type": "code",
        "colab": {
          "base_uri": "https://localhost:8080/",
          "height": 111
        },
        "outputId": "79988ac2-ec78-4bf3-a910-3a4f044b6631"
      },
      "source": [
        "case['province'].unique()"
      ],
      "execution_count": 12,
      "outputs": [
        {
          "output_type": "execute_result",
          "data": {
            "text/plain": [
              "array(['Seoul', 'Busan', 'Daegu', 'Gwangju', 'Incheon', 'Daejeon',\n",
              "       'Ulsan', 'Sejong', 'Gyeonggi-do', 'Gangwon-do',\n",
              "       'Chungcheongbuk-do', 'Chungcheongnam-do', 'Jeollabuk-do',\n",
              "       'Jeollanam-do', 'Gyeongsangbuk-do', 'Gyeongsangnam-do', 'Jeju-do'],\n",
              "      dtype=object)"
            ]
          },
          "metadata": {
            "tags": []
          },
          "execution_count": 12
        }
      ]
    },
    {
      "cell_type": "code",
      "metadata": {
        "id": "aVu8PrrWbdbN",
        "colab_type": "code",
        "colab": {
          "base_uri": "https://localhost:8080/",
          "height": 36
        },
        "outputId": "7a70329c-d9a4-41f8-f355-a493712647d4"
      },
      "source": [
        "case['confirmed'].sum()"
      ],
      "execution_count": 19,
      "outputs": [
        {
          "output_type": "execute_result",
          "data": {
            "text/plain": [
              "11395"
            ]
          },
          "metadata": {
            "tags": []
          },
          "execution_count": 19
        }
      ]
    },
    {
      "cell_type": "code",
      "metadata": {
        "id": "-VPVqvb1VP1Q",
        "colab_type": "code",
        "colab": {}
      },
      "source": [
        "seoul = case[(case['province'] == 'Seoul')]\n",
        "busan = case[(case['province'] == 'Busan')]\n",
        "daegu = case[(case['province'] == 'Daegu')]\n",
        "gwangju = case[(case['province'] == 'Gwangju')]\n",
        "incheon = case[(case['province'] == 'Incheon')]\n",
        "daejeon = case[(case['province'] == 'Daejeon')]\n",
        "ulsan = case[(case['province'] == 'Ulsan')]\n",
        "sejong = case[(case['province'] == 'Sejong')]\n",
        "gyeonggido = case[(case['province'] == 'Gyeonggi-do')]\n",
        "gangwondo = case[(case['province'] == 'Gangwon-do')]\n",
        "chungcheongbukdo = case[(case['province'] == 'Chungcheongbuk-do')]\n",
        "chungcheongnamdo = case[(case['province'] == 'Chungcheongnam-do')]\n",
        "jeollabukdo = case[(case['province'] == 'Jeollabuk-do')]\n",
        "jeollanamdo = case[(case['province'] == 'Jeollanam-do')]\n",
        "gyeongsangbukdo = case[(case['province'] == 'Gyeongsangbuk-do')]\n",
        "gyeongsangnamdo = case[(case['province'] == 'Gyeongsangnam-do')]\n",
        "jejudo = case[(case['province'] == 'Jeju-do')]"
      ],
      "execution_count": 13,
      "outputs": []
    },
    {
      "cell_type": "code",
      "metadata": {
        "id": "9_oCFURbVv0y",
        "colab_type": "code",
        "colab": {
          "base_uri": "https://localhost:8080/",
          "height": 354
        },
        "outputId": "82aa2f7e-d096-48d8-d93f-d6f1d8e64dd6"
      },
      "source": [
        "print(\"BREAKDOWN:\")\n",
        "    \n",
        "print(\"Seoul: \" + str(seoul[\"confirmed\"].sum()))\n",
        "print(\"Busan: \" + str(busan[\"confirmed\"].sum()))\n",
        "print(\"Daegu: \" + str(daegu[\"confirmed\"].sum()))\n",
        "print(\"Gwangju: \" + str(gwangju[\"confirmed\"].sum()))\n",
        "print(\"Incheon: \" + str(incheon[\"confirmed\"].sum()))\n",
        "print(\"Daejeon: \" + str(daejeon[\"confirmed\"].sum()))\n",
        "print(\"Ulsan: \" + str(ulsan[\"confirmed\"].sum()))\n",
        "print(\"Sejong: \" + str(sejong[\"confirmed\"].sum()))\n",
        "print(\"Gyeonggi-do: \" + str(gyeonggido[\"confirmed\"].sum()))\n",
        "print(\"Gangwon-do: \" + str(gangwondo[\"confirmed\"].sum()))\n",
        "print(\"Chungcheongbuk-do: \" + str(chungcheongbukdo[\"confirmed\"].sum()))\n",
        "print(\"Chungcheongnam-do: \" + str(chungcheongnamdo[\"confirmed\"].sum()))\n",
        "print(\"Jeollabuk-do: \" + str(jeollabukdo[\"confirmed\"].sum()))\n",
        "print(\"Jeollanam-do: \" + str(jeollanamdo[\"confirmed\"].sum()))\n",
        "print(\"Gyeongsangbuk-do: \" + str(gyeongsangbukdo[\"confirmed\"].sum()))\n",
        "print(\"Gyeongsangnam-do: \" + str(gyeongsangnamdo[\"confirmed\"].sum()))\n",
        "print(\"Jeju-do: \" + str(jejudo[\"confirmed\"].sum()))\n"
      ],
      "execution_count": 14,
      "outputs": [
        {
          "output_type": "stream",
          "text": [
            "BREAKDOWN:\n",
            "Seoul: 1280\n",
            "Busan: 156\n",
            "Daegu: 6680\n",
            "Gwangju: 43\n",
            "Incheon: 202\n",
            "Daejeon: 131\n",
            "Ulsan: 51\n",
            "Sejong: 49\n",
            "Gyeonggi-do: 1000\n",
            "Gangwon-do: 62\n",
            "Chungcheongbuk-do: 60\n",
            "Chungcheongnam-do: 158\n",
            "Jeollabuk-do: 23\n",
            "Jeollanam-do: 25\n",
            "Gyeongsangbuk-do: 1324\n",
            "Gyeongsangnam-do: 132\n",
            "Jeju-do: 19\n"
          ],
          "name": "stdout"
        }
      ]
    },
    {
      "cell_type": "code",
      "metadata": {
        "id": "Ui_rOaiAban5",
        "colab_type": "code",
        "colab": {
          "base_uri": "https://localhost:8080/",
          "height": 92
        },
        "outputId": "d6985884-e0a9-4f74-86a2-e1ddc46879c7"
      },
      "source": [
        "print(\"Seoul: \", 1280/11395)\n",
        "print(\"Daegu: \", 6680/11395)\n",
        "print(\"Gyeonggi-do: \", 1000/11395)\n",
        "print(\"Gyeongsangbuk-do: \", 1324/11395)"
      ],
      "execution_count": 20,
      "outputs": [
        {
          "output_type": "stream",
          "text": [
            "Seoul:  0.11232996928477403\n",
            "Daegu:  0.5862220272049145\n",
            "Gyeonggi-do:  0.0877577885037297\n",
            "Gyeongsangbuk-do:  0.11619131197893813\n"
          ],
          "name": "stdout"
        }
      ]
    },
    {
      "cell_type": "code",
      "metadata": {
        "id": "V4x2yDDZey7N",
        "colab_type": "code",
        "colab": {
          "base_uri": "https://localhost:8080/",
          "height": 36
        },
        "outputId": "8f5ce3b1-148b-48ff-8b37-49cefddfecc7"
      },
      "source": [
        "print(19/11395)"
      ],
      "execution_count": 21,
      "outputs": [
        {
          "output_type": "stream",
          "text": [
            "0.0016673979815708645\n"
          ],
          "name": "stdout"
        }
      ]
    },
    {
      "cell_type": "markdown",
      "metadata": {
        "id": "MDsQbl_6VzoA",
        "colab_type": "text"
      },
      "source": [
        "The four hardest-hit parts of South Korea were as follows:\n",
        "\n",
        "1. **Daegu** at **58.62%** of all infections;\n",
        "1. **Northern Gyeongsangbuk Province** at **11.62%**;\n",
        "1. **Seoul** at **11.23%**; and\n",
        "1. **Gyeonggi-do** at **8.78%**.\n",
        "\n",
        "However, **Jeju-do** seems to be luckily just chilling at **0.17%** of all national infections."
      ]
    },
    {
      "cell_type": "markdown",
      "metadata": {
        "id": "8532nN8xadCt",
        "colab_type": "text"
      },
      "source": [
        "### What percentage of total confirmed is made up by Shincheonji?"
      ]
    },
    {
      "cell_type": "code",
      "metadata": {
        "id": "Sjq6rdnSbHSa",
        "colab_type": "code",
        "colab": {
          "base_uri": "https://localhost:8080/",
          "height": 293
        },
        "outputId": "075a7e7d-cc0e-46b1-ebe9-3c3dd2d660b5"
      },
      "source": [
        "cult = case[(case['infection_case'] == 'Shincheonji Church')]\n",
        "cult.tail()"
      ],
      "execution_count": 15,
      "outputs": [
        {
          "output_type": "execute_result",
          "data": {
            "text/html": [
              "<div>\n",
              "<style scoped>\n",
              "    .dataframe tbody tr th:only-of-type {\n",
              "        vertical-align: middle;\n",
              "    }\n",
              "\n",
              "    .dataframe tbody tr th {\n",
              "        vertical-align: top;\n",
              "    }\n",
              "\n",
              "    .dataframe thead th {\n",
              "        text-align: right;\n",
              "    }\n",
              "</style>\n",
              "<table border=\"1\" class=\"dataframe\">\n",
              "  <thead>\n",
              "    <tr style=\"text-align: right;\">\n",
              "      <th></th>\n",
              "      <th>case_id</th>\n",
              "      <th>province</th>\n",
              "      <th>city</th>\n",
              "      <th>group</th>\n",
              "      <th>infection_case</th>\n",
              "      <th>confirmed</th>\n",
              "      <th>latitude</th>\n",
              "      <th>longitude</th>\n",
              "    </tr>\n",
              "  </thead>\n",
              "  <tbody>\n",
              "    <tr>\n",
              "      <th>123</th>\n",
              "      <td>4000004</td>\n",
              "      <td>Chungcheongbuk-do</td>\n",
              "      <td>from other city</td>\n",
              "      <td>True</td>\n",
              "      <td>Shincheonji Church</td>\n",
              "      <td>6</td>\n",
              "      <td>-</td>\n",
              "      <td>-</td>\n",
              "    </tr>\n",
              "    <tr>\n",
              "      <th>137</th>\n",
              "      <td>5000003</td>\n",
              "      <td>Jeollabuk-do</td>\n",
              "      <td>from other city</td>\n",
              "      <td>True</td>\n",
              "      <td>Shincheonji Church</td>\n",
              "      <td>1</td>\n",
              "      <td>-</td>\n",
              "      <td>-</td>\n",
              "    </tr>\n",
              "    <tr>\n",
              "      <th>141</th>\n",
              "      <td>5100002</td>\n",
              "      <td>Jeollanam-do</td>\n",
              "      <td>from other city</td>\n",
              "      <td>True</td>\n",
              "      <td>Shincheonji Church</td>\n",
              "      <td>1</td>\n",
              "      <td>-</td>\n",
              "      <td>-</td>\n",
              "    </tr>\n",
              "    <tr>\n",
              "      <th>145</th>\n",
              "      <td>6000001</td>\n",
              "      <td>Gyeongsangbuk-do</td>\n",
              "      <td>from other city</td>\n",
              "      <td>True</td>\n",
              "      <td>Shincheonji Church</td>\n",
              "      <td>566</td>\n",
              "      <td>-</td>\n",
              "      <td>-</td>\n",
              "    </tr>\n",
              "    <tr>\n",
              "      <th>158</th>\n",
              "      <td>6100001</td>\n",
              "      <td>Gyeongsangnam-do</td>\n",
              "      <td>from other city</td>\n",
              "      <td>True</td>\n",
              "      <td>Shincheonji Church</td>\n",
              "      <td>32</td>\n",
              "      <td>-</td>\n",
              "      <td>-</td>\n",
              "    </tr>\n",
              "  </tbody>\n",
              "</table>\n",
              "</div>"
            ],
            "text/plain": [
              "      case_id           province             city  ...  confirmed latitude  longitude\n",
              "123   4000004  Chungcheongbuk-do  from other city  ...          6        -          -\n",
              "137   5000003       Jeollabuk-do  from other city  ...          1        -          -\n",
              "141   5100002       Jeollanam-do  from other city  ...          1        -          -\n",
              "145   6000001   Gyeongsangbuk-do  from other city  ...        566        -          -\n",
              "158   6100001   Gyeongsangnam-do  from other city  ...         32        -          -\n",
              "\n",
              "[5 rows x 8 columns]"
            ]
          },
          "metadata": {
            "tags": []
          },
          "execution_count": 15
        }
      ]
    },
    {
      "cell_type": "code",
      "metadata": {
        "id": "3ZslCF2DbGVP",
        "colab_type": "code",
        "colab": {
          "base_uri": "https://localhost:8080/",
          "height": 36
        },
        "outputId": "d4e7995e-35bb-4cd4-ff06-f803da772ccc"
      },
      "source": [
        "cult['confirmed'].sum()"
      ],
      "execution_count": 16,
      "outputs": [
        {
          "output_type": "execute_result",
          "data": {
            "text/plain": [
              "5213"
            ]
          },
          "metadata": {
            "tags": []
          },
          "execution_count": 16
        }
      ]
    },
    {
      "cell_type": "code",
      "metadata": {
        "id": "DIAyhUDgbRL7",
        "colab_type": "code",
        "colab": {
          "base_uri": "https://localhost:8080/",
          "height": 36
        },
        "outputId": "0e91a446-ce9c-49c4-95ec-91ecec471f5c"
      },
      "source": [
        "print(5213/8059)"
      ],
      "execution_count": 18,
      "outputs": [
        {
          "output_type": "stream",
          "text": [
            "0.6468544484427349\n"
          ],
          "name": "stdout"
        }
      ]
    },
    {
      "cell_type": "markdown",
      "metadata": {
        "id": "HuCXf71zfFru",
        "colab_type": "text"
      },
      "source": [
        "### Demographically, who is the most vulnerable?"
      ]
    },
    {
      "cell_type": "code",
      "metadata": {
        "id": "-pdJmvn4fJpb",
        "colab_type": "code",
        "colab": {
          "base_uri": "https://localhost:8080/",
          "height": 206
        },
        "outputId": "eb65557e-1076-4095-ae4d-22f90eacb8ae"
      },
      "source": [
        "time_age = pd.read_csv(\"/content/gdrive/My Drive/Colab Notebooks/data/korea/TimeAge.csv\")\n",
        "time_age.head()"
      ],
      "execution_count": 35,
      "outputs": [
        {
          "output_type": "execute_result",
          "data": {
            "text/html": [
              "<div>\n",
              "<style scoped>\n",
              "    .dataframe tbody tr th:only-of-type {\n",
              "        vertical-align: middle;\n",
              "    }\n",
              "\n",
              "    .dataframe tbody tr th {\n",
              "        vertical-align: top;\n",
              "    }\n",
              "\n",
              "    .dataframe thead th {\n",
              "        text-align: right;\n",
              "    }\n",
              "</style>\n",
              "<table border=\"1\" class=\"dataframe\">\n",
              "  <thead>\n",
              "    <tr style=\"text-align: right;\">\n",
              "      <th></th>\n",
              "      <th>date</th>\n",
              "      <th>time</th>\n",
              "      <th>age</th>\n",
              "      <th>confirmed</th>\n",
              "      <th>deceased</th>\n",
              "    </tr>\n",
              "  </thead>\n",
              "  <tbody>\n",
              "    <tr>\n",
              "      <th>0</th>\n",
              "      <td>2020-03-02</td>\n",
              "      <td>0</td>\n",
              "      <td>0s</td>\n",
              "      <td>32</td>\n",
              "      <td>0</td>\n",
              "    </tr>\n",
              "    <tr>\n",
              "      <th>1</th>\n",
              "      <td>2020-03-02</td>\n",
              "      <td>0</td>\n",
              "      <td>10s</td>\n",
              "      <td>169</td>\n",
              "      <td>0</td>\n",
              "    </tr>\n",
              "    <tr>\n",
              "      <th>2</th>\n",
              "      <td>2020-03-02</td>\n",
              "      <td>0</td>\n",
              "      <td>20s</td>\n",
              "      <td>1235</td>\n",
              "      <td>0</td>\n",
              "    </tr>\n",
              "    <tr>\n",
              "      <th>3</th>\n",
              "      <td>2020-03-02</td>\n",
              "      <td>0</td>\n",
              "      <td>30s</td>\n",
              "      <td>506</td>\n",
              "      <td>1</td>\n",
              "    </tr>\n",
              "    <tr>\n",
              "      <th>4</th>\n",
              "      <td>2020-03-02</td>\n",
              "      <td>0</td>\n",
              "      <td>40s</td>\n",
              "      <td>633</td>\n",
              "      <td>1</td>\n",
              "    </tr>\n",
              "  </tbody>\n",
              "</table>\n",
              "</div>"
            ],
            "text/plain": [
              "         date  time  age  confirmed  deceased\n",
              "0  2020-03-02     0   0s         32         0\n",
              "1  2020-03-02     0  10s        169         0\n",
              "2  2020-03-02     0  20s       1235         0\n",
              "3  2020-03-02     0  30s        506         1\n",
              "4  2020-03-02     0  40s        633         1"
            ]
          },
          "metadata": {
            "tags": []
          },
          "execution_count": 35
        }
      ]
    },
    {
      "cell_type": "code",
      "metadata": {
        "id": "h6zc-HdqkaaG",
        "colab_type": "code",
        "colab": {
          "base_uri": "https://localhost:8080/",
          "height": 300
        },
        "outputId": "eb3065ec-4fbd-4cc6-e318-cbeab3e219c0"
      },
      "source": [
        "time_age.describe()"
      ],
      "execution_count": 44,
      "outputs": [
        {
          "output_type": "execute_result",
          "data": {
            "text/html": [
              "<div>\n",
              "<style scoped>\n",
              "    .dataframe tbody tr th:only-of-type {\n",
              "        vertical-align: middle;\n",
              "    }\n",
              "\n",
              "    .dataframe tbody tr th {\n",
              "        vertical-align: top;\n",
              "    }\n",
              "\n",
              "    .dataframe thead th {\n",
              "        text-align: right;\n",
              "    }\n",
              "</style>\n",
              "<table border=\"1\" class=\"dataframe\">\n",
              "  <thead>\n",
              "    <tr style=\"text-align: right;\">\n",
              "      <th></th>\n",
              "      <th>time</th>\n",
              "      <th>confirmed</th>\n",
              "      <th>deceased</th>\n",
              "    </tr>\n",
              "  </thead>\n",
              "  <tbody>\n",
              "    <tr>\n",
              "      <th>count</th>\n",
              "      <td>1089.0</td>\n",
              "      <td>1089.000000</td>\n",
              "      <td>1089.000000</td>\n",
              "    </tr>\n",
              "    <tr>\n",
              "      <th>mean</th>\n",
              "      <td>0.0</td>\n",
              "      <td>1158.129477</td>\n",
              "      <td>23.419651</td>\n",
              "    </tr>\n",
              "    <tr>\n",
              "      <th>std</th>\n",
              "      <td>0.0</td>\n",
              "      <td>822.619497</td>\n",
              "      <td>37.387911</td>\n",
              "    </tr>\n",
              "    <tr>\n",
              "      <th>min</th>\n",
              "      <td>0.0</td>\n",
              "      <td>32.000000</td>\n",
              "      <td>0.000000</td>\n",
              "    </tr>\n",
              "    <tr>\n",
              "      <th>25%</th>\n",
              "      <td>0.0</td>\n",
              "      <td>530.000000</td>\n",
              "      <td>0.000000</td>\n",
              "    </tr>\n",
              "    <tr>\n",
              "      <th>50%</th>\n",
              "      <td>0.0</td>\n",
              "      <td>1052.000000</td>\n",
              "      <td>3.000000</td>\n",
              "    </tr>\n",
              "    <tr>\n",
              "      <th>75%</th>\n",
              "      <td>0.0</td>\n",
              "      <td>1537.000000</td>\n",
              "      <td>35.000000</td>\n",
              "    </tr>\n",
              "    <tr>\n",
              "      <th>max</th>\n",
              "      <td>0.0</td>\n",
              "      <td>3362.000000</td>\n",
              "      <td>139.000000</td>\n",
              "    </tr>\n",
              "  </tbody>\n",
              "</table>\n",
              "</div>"
            ],
            "text/plain": [
              "         time    confirmed     deceased\n",
              "count  1089.0  1089.000000  1089.000000\n",
              "mean      0.0  1158.129477    23.419651\n",
              "std       0.0   822.619497    37.387911\n",
              "min       0.0    32.000000     0.000000\n",
              "25%       0.0   530.000000     0.000000\n",
              "50%       0.0  1052.000000     3.000000\n",
              "75%       0.0  1537.000000    35.000000\n",
              "max       0.0  3362.000000   139.000000"
            ]
          },
          "metadata": {
            "tags": []
          },
          "execution_count": 44
        }
      ]
    },
    {
      "cell_type": "code",
      "metadata": {
        "id": "FXcXuhLSjffZ",
        "colab_type": "code",
        "colab": {
          "base_uri": "https://localhost:8080/",
          "height": 54
        },
        "outputId": "b4f8269f-e9b5-47ab-8112-4d8e28c15a80"
      },
      "source": [
        "time_age['age'].unique()"
      ],
      "execution_count": 37,
      "outputs": [
        {
          "output_type": "execute_result",
          "data": {
            "text/plain": [
              "array(['0s', '10s', '20s', '30s', '40s', '50s', '60s', '70s', '80s'],\n",
              "      dtype=object)"
            ]
          },
          "metadata": {
            "tags": []
          },
          "execution_count": 37
        }
      ]
    },
    {
      "cell_type": "code",
      "metadata": {
        "id": "5J1C8OUHkXd-",
        "colab_type": "code",
        "colab": {
          "base_uri": "https://localhost:8080/",
          "height": 36
        },
        "outputId": "e01a16a0-1f4e-4d37-d8b2-c831c187121a"
      },
      "source": [
        "time_age['confirmed'].sum()"
      ],
      "execution_count": 45,
      "outputs": [
        {
          "output_type": "execute_result",
          "data": {
            "text/plain": [
              "1261203"
            ]
          },
          "metadata": {
            "tags": []
          },
          "execution_count": 45
        }
      ]
    },
    {
      "cell_type": "code",
      "metadata": {
        "id": "Ie2b4w24jnpk",
        "colab_type": "code",
        "colab": {
          "base_uri": "https://localhost:8080/",
          "height": 206
        },
        "outputId": "1c467fbc-d3ee-48ff-9f8b-972687116921"
      },
      "source": [
        "kids = time_age[(time_age['age'] == '0s')]\n",
        "kids.head()"
      ],
      "execution_count": 38,
      "outputs": [
        {
          "output_type": "execute_result",
          "data": {
            "text/html": [
              "<div>\n",
              "<style scoped>\n",
              "    .dataframe tbody tr th:only-of-type {\n",
              "        vertical-align: middle;\n",
              "    }\n",
              "\n",
              "    .dataframe tbody tr th {\n",
              "        vertical-align: top;\n",
              "    }\n",
              "\n",
              "    .dataframe thead th {\n",
              "        text-align: right;\n",
              "    }\n",
              "</style>\n",
              "<table border=\"1\" class=\"dataframe\">\n",
              "  <thead>\n",
              "    <tr style=\"text-align: right;\">\n",
              "      <th></th>\n",
              "      <th>date</th>\n",
              "      <th>time</th>\n",
              "      <th>age</th>\n",
              "      <th>confirmed</th>\n",
              "      <th>deceased</th>\n",
              "    </tr>\n",
              "  </thead>\n",
              "  <tbody>\n",
              "    <tr>\n",
              "      <th>0</th>\n",
              "      <td>2020-03-02</td>\n",
              "      <td>0</td>\n",
              "      <td>0s</td>\n",
              "      <td>32</td>\n",
              "      <td>0</td>\n",
              "    </tr>\n",
              "    <tr>\n",
              "      <th>9</th>\n",
              "      <td>2020-03-03</td>\n",
              "      <td>0</td>\n",
              "      <td>0s</td>\n",
              "      <td>34</td>\n",
              "      <td>0</td>\n",
              "    </tr>\n",
              "    <tr>\n",
              "      <th>18</th>\n",
              "      <td>2020-03-04</td>\n",
              "      <td>0</td>\n",
              "      <td>0s</td>\n",
              "      <td>34</td>\n",
              "      <td>0</td>\n",
              "    </tr>\n",
              "    <tr>\n",
              "      <th>27</th>\n",
              "      <td>2020-03-05</td>\n",
              "      <td>0</td>\n",
              "      <td>0s</td>\n",
              "      <td>38</td>\n",
              "      <td>0</td>\n",
              "    </tr>\n",
              "    <tr>\n",
              "      <th>36</th>\n",
              "      <td>2020-03-06</td>\n",
              "      <td>0</td>\n",
              "      <td>0s</td>\n",
              "      <td>45</td>\n",
              "      <td>0</td>\n",
              "    </tr>\n",
              "  </tbody>\n",
              "</table>\n",
              "</div>"
            ],
            "text/plain": [
              "          date  time age  confirmed  deceased\n",
              "0   2020-03-02     0  0s         32         0\n",
              "9   2020-03-03     0  0s         34         0\n",
              "18  2020-03-04     0  0s         34         0\n",
              "27  2020-03-05     0  0s         38         0\n",
              "36  2020-03-06     0  0s         45         0"
            ]
          },
          "metadata": {
            "tags": []
          },
          "execution_count": 38
        }
      ]
    },
    {
      "cell_type": "code",
      "metadata": {
        "id": "rLdo0ddokH0N",
        "colab_type": "code",
        "colab": {
          "base_uri": "https://localhost:8080/",
          "height": 36
        },
        "outputId": "201764fc-7a1a-4227-b747-2fde4857c54f"
      },
      "source": [
        "print(\"kids: \", kids['confirmed'].sum())"
      ],
      "execution_count": 48,
      "outputs": [
        {
          "output_type": "stream",
          "text": [
            "kids:  16107\n"
          ],
          "name": "stdout"
        }
      ]
    },
    {
      "cell_type": "code",
      "metadata": {
        "id": "nKSQlGzbj2Qd",
        "colab_type": "code",
        "colab": {}
      },
      "source": [
        "teens = time_age[(time_age['age'] == '10s')]\n",
        "twenties = time_age[(time_age['age'] == '20s')]\n",
        "thirties = time_age[(time_age['age'] == '30s')]\n",
        "forties = time_age[(time_age['age'] == '40s')]\n",
        "fifties = time_age[(time_age['age'] == '50s')]\n",
        "sixties = time_age[(time_age['age'] == '60s')]\n",
        "seventies = time_age[(time_age['age'] == '70s')]\n",
        "eighties = time_age[(time_age['age'] == '80s')]"
      ],
      "execution_count": 42,
      "outputs": []
    },
    {
      "cell_type": "code",
      "metadata": {
        "id": "aLonWt-1lhqi",
        "colab_type": "code",
        "colab": {
          "base_uri": "https://localhost:8080/",
          "height": 204
        },
        "outputId": "13ea7aa3-1318-41b0-bb22-f6ec6061acf3"
      },
      "source": [
        "print(\"infection:\")\n",
        "print(\"kids: \", kids['confirmed'].sum())\n",
        "print(\"teens: \", teens['confirmed'].sum())\n",
        "print(\"20s: \", twenties['confirmed'].sum())\n",
        "print(\"30s: \", thirties['confirmed'].sum())\n",
        "print(\"40s: \", forties['confirmed'].sum())\n",
        "print(\"50s: \", fifties['confirmed'].sum())\n",
        "print(\"60s: \", sixties['confirmed'].sum())\n",
        "print(\"70s: \", seventies['confirmed'].sum())\n",
        "print(\"80s: \", eighties['confirmed'].sum())"
      ],
      "execution_count": 53,
      "outputs": [
        {
          "output_type": "stream",
          "text": [
            "infection:\n",
            "kids:  16107\n",
            "teens:  68752\n",
            "20s:  345827\n",
            "30s:  137539\n",
            "40s:  168250\n",
            "50s:  230030\n",
            "60s:  158505\n",
            "70s:  82107\n",
            "80s:  54086\n"
          ],
          "name": "stdout"
        }
      ]
    },
    {
      "cell_type": "code",
      "metadata": {
        "id": "AeyIcLgzln2J",
        "colab_type": "code",
        "colab": {
          "base_uri": "https://localhost:8080/",
          "height": 204
        },
        "outputId": "ae859ca4-6431-46e8-e724-a9a11c445959"
      },
      "source": [
        "print(\"fatality:\")\n",
        "print(\"kids: \", kids['deceased'].sum())\n",
        "print(\"teens: \", teens['deceased'].sum())\n",
        "print(\"20s: \", twenties['deceased'].sum())\n",
        "print(\"30s: \", thirties['deceased'].sum())\n",
        "print(\"40s: \", forties['deceased'].sum())\n",
        "print(\"50s: \", fifties['deceased'].sum())\n",
        "print(\"60s: \", sixties['deceased'].sum())\n",
        "print(\"70s: \", seventies['deceased'].sum())\n",
        "print(\"80s: \", eighties['deceased'].sum())"
      ],
      "execution_count": 54,
      "outputs": [
        {
          "output_type": "stream",
          "text": [
            "fatality:\n",
            "kids:  0\n",
            "teens:  0\n",
            "20s:  0\n",
            "30s:  194\n",
            "40s:  295\n",
            "50s:  1537\n",
            "60s:  3743\n",
            "70s:  7599\n",
            "80s:  12136\n"
          ],
          "name": "stdout"
        }
      ]
    },
    {
      "cell_type": "markdown",
      "metadata": {
        "id": "bNUdFKloqweo",
        "colab_type": "text"
      },
      "source": [
        "In terms of **age**:\n",
        "* The most **infected** are those in their **20s** and their **50s**.\n",
        "* The most **prone to fatality** are those in their **70s** and their **80s**."
      ]
    },
    {
      "cell_type": "code",
      "metadata": {
        "id": "OovUvmTwfKsk",
        "colab_type": "code",
        "colab": {
          "base_uri": "https://localhost:8080/",
          "height": 423
        },
        "outputId": "04fd32ff-a595-447a-862d-b68654bd3213"
      },
      "source": [
        "time_sex = pd.read_csv(\"/content/gdrive/My Drive/Colab Notebooks/data/korea/TimeGender.csv\")\n",
        "time_sex"
      ],
      "execution_count": 34,
      "outputs": [
        {
          "output_type": "execute_result",
          "data": {
            "text/html": [
              "<div>\n",
              "<style scoped>\n",
              "    .dataframe tbody tr th:only-of-type {\n",
              "        vertical-align: middle;\n",
              "    }\n",
              "\n",
              "    .dataframe tbody tr th {\n",
              "        vertical-align: top;\n",
              "    }\n",
              "\n",
              "    .dataframe thead th {\n",
              "        text-align: right;\n",
              "    }\n",
              "</style>\n",
              "<table border=\"1\" class=\"dataframe\">\n",
              "  <thead>\n",
              "    <tr style=\"text-align: right;\">\n",
              "      <th></th>\n",
              "      <th>date</th>\n",
              "      <th>time</th>\n",
              "      <th>sex</th>\n",
              "      <th>confirmed</th>\n",
              "      <th>deceased</th>\n",
              "    </tr>\n",
              "  </thead>\n",
              "  <tbody>\n",
              "    <tr>\n",
              "      <th>0</th>\n",
              "      <td>2020-03-02</td>\n",
              "      <td>0</td>\n",
              "      <td>male</td>\n",
              "      <td>1591</td>\n",
              "      <td>13</td>\n",
              "    </tr>\n",
              "    <tr>\n",
              "      <th>1</th>\n",
              "      <td>2020-03-02</td>\n",
              "      <td>0</td>\n",
              "      <td>female</td>\n",
              "      <td>2621</td>\n",
              "      <td>9</td>\n",
              "    </tr>\n",
              "    <tr>\n",
              "      <th>2</th>\n",
              "      <td>2020-03-03</td>\n",
              "      <td>0</td>\n",
              "      <td>male</td>\n",
              "      <td>1810</td>\n",
              "      <td>16</td>\n",
              "    </tr>\n",
              "    <tr>\n",
              "      <th>3</th>\n",
              "      <td>2020-03-03</td>\n",
              "      <td>0</td>\n",
              "      <td>female</td>\n",
              "      <td>3002</td>\n",
              "      <td>12</td>\n",
              "    </tr>\n",
              "    <tr>\n",
              "      <th>4</th>\n",
              "      <td>2020-03-04</td>\n",
              "      <td>0</td>\n",
              "      <td>male</td>\n",
              "      <td>1996</td>\n",
              "      <td>20</td>\n",
              "    </tr>\n",
              "    <tr>\n",
              "      <th>...</th>\n",
              "      <td>...</td>\n",
              "      <td>...</td>\n",
              "      <td>...</td>\n",
              "      <td>...</td>\n",
              "      <td>...</td>\n",
              "    </tr>\n",
              "    <tr>\n",
              "      <th>237</th>\n",
              "      <td>2020-06-28</td>\n",
              "      <td>0</td>\n",
              "      <td>female</td>\n",
              "      <td>7265</td>\n",
              "      <td>131</td>\n",
              "    </tr>\n",
              "    <tr>\n",
              "      <th>238</th>\n",
              "      <td>2020-06-29</td>\n",
              "      <td>0</td>\n",
              "      <td>male</td>\n",
              "      <td>5470</td>\n",
              "      <td>151</td>\n",
              "    </tr>\n",
              "    <tr>\n",
              "      <th>239</th>\n",
              "      <td>2020-06-29</td>\n",
              "      <td>0</td>\n",
              "      <td>female</td>\n",
              "      <td>7287</td>\n",
              "      <td>131</td>\n",
              "    </tr>\n",
              "    <tr>\n",
              "      <th>240</th>\n",
              "      <td>2020-06-30</td>\n",
              "      <td>0</td>\n",
              "      <td>male</td>\n",
              "      <td>5495</td>\n",
              "      <td>151</td>\n",
              "    </tr>\n",
              "    <tr>\n",
              "      <th>241</th>\n",
              "      <td>2020-06-30</td>\n",
              "      <td>0</td>\n",
              "      <td>female</td>\n",
              "      <td>7305</td>\n",
              "      <td>131</td>\n",
              "    </tr>\n",
              "  </tbody>\n",
              "</table>\n",
              "<p>242 rows × 5 columns</p>\n",
              "</div>"
            ],
            "text/plain": [
              "           date  time     sex  confirmed  deceased\n",
              "0    2020-03-02     0    male       1591        13\n",
              "1    2020-03-02     0  female       2621         9\n",
              "2    2020-03-03     0    male       1810        16\n",
              "3    2020-03-03     0  female       3002        12\n",
              "4    2020-03-04     0    male       1996        20\n",
              "..          ...   ...     ...        ...       ...\n",
              "237  2020-06-28     0  female       7265       131\n",
              "238  2020-06-29     0    male       5470       151\n",
              "239  2020-06-29     0  female       7287       131\n",
              "240  2020-06-30     0    male       5495       151\n",
              "241  2020-06-30     0  female       7305       131\n",
              "\n",
              "[242 rows x 5 columns]"
            ]
          },
          "metadata": {
            "tags": []
          },
          "execution_count": 34
        }
      ]
    },
    {
      "cell_type": "code",
      "metadata": {
        "id": "GuZ1ag8YjYoY",
        "colab_type": "code",
        "colab": {
          "base_uri": "https://localhost:8080/",
          "height": 129
        },
        "outputId": "0cf270c1-9c66-4765-bacd-2871fecd41d1"
      },
      "source": [
        "males = time_sex[(time_sex['sex'] == 'male')]\n",
        "females = time_sex[(time_sex['sex'] == 'female')]\n",
        "print(\"infections: \")\n",
        "print(\"men: \", males['confirmed'].sum())\n",
        "print(\"women: \", females['confirmed'].sum())\n",
        "print(\"fatalities: \")\n",
        "print(\"men: \", males['deceased'].sum())\n",
        "print(\"women: \", females['deceased'].sum())"
      ],
      "execution_count": 55,
      "outputs": [
        {
          "output_type": "stream",
          "text": [
            "infections: \n",
            "men:  513727\n",
            "women:  747467\n",
            "fatalities: \n",
            "men:  13484\n",
            "women:  12019\n"
          ],
          "name": "stdout"
        }
      ]
    },
    {
      "cell_type": "markdown",
      "metadata": {
        "id": "hRbiCsXnrWat",
        "colab_type": "text"
      },
      "source": [
        "In terms of **gender**:\n",
        "* **Women** appear more frequently among the infected; however,\n",
        "* **Men** are represented more frequently among fatalities."
      ]
    },
    {
      "cell_type": "markdown",
      "metadata": {
        "id": "etQVoIqUmFCw",
        "colab_type": "text"
      },
      "source": [
        "### What is the fatality rate?"
      ]
    },
    {
      "cell_type": "code",
      "metadata": {
        "id": "O_fLaO8yqeIq",
        "colab_type": "code",
        "colab": {
          "base_uri": "https://localhost:8080/",
          "height": 36
        },
        "outputId": "16bbf83b-c5a1-454b-b7cc-ebe964258d6c"
      },
      "source": [
        "print((513727+747467)/(13484+12019))"
      ],
      "execution_count": 57,
      "outputs": [
        {
          "output_type": "stream",
          "text": [
            "49.45277026232208\n"
          ],
          "name": "stdout"
        }
      ]
    },
    {
      "cell_type": "markdown",
      "metadata": {
        "id": "DTq5zJumr4l7",
        "colab_type": "text"
      },
      "source": [
        "The **overall** fatality rate is **49.45%**"
      ]
    },
    {
      "cell_type": "code",
      "metadata": {
        "id": "On32-odBsHTQ",
        "colab_type": "code",
        "colab": {}
      },
      "source": [
        ""
      ],
      "execution_count": null,
      "outputs": []
    }
  ]
}