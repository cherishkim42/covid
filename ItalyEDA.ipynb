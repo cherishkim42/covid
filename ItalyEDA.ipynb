{
  "nbformat": 4,
  "nbformat_minor": 0,
  "metadata": {
    "colab": {
      "name": "ItalyEDA.ipynb",
      "provenance": [],
      "collapsed_sections": [],
      "include_colab_link": true
    },
    "kernelspec": {
      "name": "python3",
      "display_name": "Python 3"
    },
    "accelerator": "GPU"
  },
  "cells": [
    {
      "cell_type": "markdown",
      "metadata": {
        "id": "view-in-github",
        "colab_type": "text"
      },
      "source": [
        "<a href=\"https://colab.research.google.com/github/cherishkim42/covid/blob/master/ItalyEDA.ipynb\" target=\"_parent\"><img src=\"https://colab.research.google.com/assets/colab-badge.svg\" alt=\"Open In Colab\"/></a>"
      ]
    },
    {
      "cell_type": "code",
      "metadata": {
        "id": "Gouym9E76urM",
        "colab_type": "code",
        "colab": {
          "base_uri": "https://localhost:8080/",
          "height": 122
        },
        "outputId": "e2225d4d-5870-4a35-b5b1-ad215ba6467a"
      },
      "source": [
        "from google.colab import drive\n",
        "drive.mount('/content/gdrive')"
      ],
      "execution_count": 3,
      "outputs": [
        {
          "output_type": "stream",
          "text": [
            "Go to this URL in a browser: https://accounts.google.com/o/oauth2/auth?client_id=947318989803-6bn6qk8qdgf4n4g3pfee6491hc0brc4i.apps.googleusercontent.com&redirect_uri=urn%3aietf%3awg%3aoauth%3a2.0%3aoob&response_type=code&scope=email%20https%3a%2f%2fwww.googleapis.com%2fauth%2fdocs.test%20https%3a%2f%2fwww.googleapis.com%2fauth%2fdrive%20https%3a%2f%2fwww.googleapis.com%2fauth%2fdrive.photos.readonly%20https%3a%2f%2fwww.googleapis.com%2fauth%2fpeopleapi.readonly\n",
            "\n",
            "Enter your authorization code:\n",
            "··········\n",
            "Mounted at /content/gdrive\n"
          ],
          "name": "stdout"
        }
      ]
    },
    {
      "cell_type": "markdown",
      "metadata": {
        "id": "wP7nhGcK3AOX",
        "colab_type": "text"
      },
      "source": [
        "1. Which regions were most afflicted by COVID-19?\n",
        "1. On which days were infection rates the most severe? Least severe?\n",
        "1. What is the fatality rate?\n",
        "\n"
      ]
    },
    {
      "cell_type": "code",
      "metadata": {
        "id": "cQLHSKXO6v9x",
        "colab_type": "code",
        "colab": {
          "base_uri": "https://localhost:8080/",
          "height": 51
        },
        "outputId": "b0245ba2-8d8a-4ca3-e832-e59aebca7e81"
      },
      "source": [
        "from scipy import stats\n",
        "import math\n",
        "import csv\n",
        "import numpy as np\n",
        "import pandas as pd\n",
        "import seaborn as sns\n",
        "import matplotlib.pyplot as plt\n",
        "sns.set(rc={'figure.figsize':(15,11)}) #standardize sizing for seaborn plots"
      ],
      "execution_count": 4,
      "outputs": [
        {
          "output_type": "stream",
          "text": [
            "/usr/local/lib/python3.6/dist-packages/statsmodels/tools/_testing.py:19: FutureWarning: pandas.util.testing is deprecated. Use the functions in the public API at pandas.testing instead.\n",
            "  import pandas.util.testing as tm\n"
          ],
          "name": "stderr"
        }
      ]
    },
    {
      "cell_type": "markdown",
      "metadata": {
        "id": "ojQeQSKT3vmW",
        "colab_type": "text"
      },
      "source": [
        "# Italy\n",
        "\n",
        "### Questions to address:\n",
        "\n",
        "1. Which regions were most afflicted by COVID-19?\n",
        "1. On which days was the number of new positive cases highest? Lowest?\n",
        "1. What is the fatality rate?"
      ]
    },
    {
      "cell_type": "markdown",
      "metadata": {
        "id": "SfP7j2d0GiJ3",
        "colab_type": "text"
      },
      "source": [
        "### Which regions were most afflicted by COVID-19?"
      ]
    },
    {
      "cell_type": "code",
      "metadata": {
        "id": "W3bFx9s78oU7",
        "colab_type": "code",
        "colab": {
          "base_uri": "https://localhost:8080/",
          "height": 309
        },
        "outputId": "679abc50-f050-47bd-89fc-a452b5412999"
      },
      "source": [
        "region = pd.read_csv(\"/content/gdrive/My Drive/Colab Notebooks/data/italy/covid19_italy_region.csv\")\n",
        "region.head()"
      ],
      "execution_count": 17,
      "outputs": [
        {
          "output_type": "execute_result",
          "data": {
            "text/html": [
              "<div>\n",
              "<style scoped>\n",
              "    .dataframe tbody tr th:only-of-type {\n",
              "        vertical-align: middle;\n",
              "    }\n",
              "\n",
              "    .dataframe tbody tr th {\n",
              "        vertical-align: top;\n",
              "    }\n",
              "\n",
              "    .dataframe thead th {\n",
              "        text-align: right;\n",
              "    }\n",
              "</style>\n",
              "<table border=\"1\" class=\"dataframe\">\n",
              "  <thead>\n",
              "    <tr style=\"text-align: right;\">\n",
              "      <th></th>\n",
              "      <th>SNo</th>\n",
              "      <th>Date</th>\n",
              "      <th>Country</th>\n",
              "      <th>RegionCode</th>\n",
              "      <th>RegionName</th>\n",
              "      <th>Latitude</th>\n",
              "      <th>Longitude</th>\n",
              "      <th>HospitalizedPatients</th>\n",
              "      <th>IntensiveCarePatients</th>\n",
              "      <th>TotalHospitalizedPatients</th>\n",
              "      <th>HomeConfinement</th>\n",
              "      <th>CurrentPositiveCases</th>\n",
              "      <th>NewPositiveCases</th>\n",
              "      <th>Recovered</th>\n",
              "      <th>Deaths</th>\n",
              "      <th>TotalPositiveCases</th>\n",
              "      <th>TestsPerformed</th>\n",
              "    </tr>\n",
              "  </thead>\n",
              "  <tbody>\n",
              "    <tr>\n",
              "      <th>0</th>\n",
              "      <td>0</td>\n",
              "      <td>2020-02-24T18:00:00</td>\n",
              "      <td>ITA</td>\n",
              "      <td>13</td>\n",
              "      <td>Abruzzo</td>\n",
              "      <td>42.351222</td>\n",
              "      <td>13.398438</td>\n",
              "      <td>0</td>\n",
              "      <td>0</td>\n",
              "      <td>0</td>\n",
              "      <td>0</td>\n",
              "      <td>0</td>\n",
              "      <td>0</td>\n",
              "      <td>0</td>\n",
              "      <td>0</td>\n",
              "      <td>0</td>\n",
              "      <td>NaN</td>\n",
              "    </tr>\n",
              "    <tr>\n",
              "      <th>1</th>\n",
              "      <td>1</td>\n",
              "      <td>2020-02-24T18:00:00</td>\n",
              "      <td>ITA</td>\n",
              "      <td>17</td>\n",
              "      <td>Basilicata</td>\n",
              "      <td>40.639471</td>\n",
              "      <td>15.805148</td>\n",
              "      <td>0</td>\n",
              "      <td>0</td>\n",
              "      <td>0</td>\n",
              "      <td>0</td>\n",
              "      <td>0</td>\n",
              "      <td>0</td>\n",
              "      <td>0</td>\n",
              "      <td>0</td>\n",
              "      <td>0</td>\n",
              "      <td>NaN</td>\n",
              "    </tr>\n",
              "    <tr>\n",
              "      <th>2</th>\n",
              "      <td>2</td>\n",
              "      <td>2020-02-24T18:00:00</td>\n",
              "      <td>ITA</td>\n",
              "      <td>18</td>\n",
              "      <td>Calabria</td>\n",
              "      <td>38.905976</td>\n",
              "      <td>16.594402</td>\n",
              "      <td>0</td>\n",
              "      <td>0</td>\n",
              "      <td>0</td>\n",
              "      <td>0</td>\n",
              "      <td>0</td>\n",
              "      <td>0</td>\n",
              "      <td>0</td>\n",
              "      <td>0</td>\n",
              "      <td>0</td>\n",
              "      <td>NaN</td>\n",
              "    </tr>\n",
              "    <tr>\n",
              "      <th>3</th>\n",
              "      <td>3</td>\n",
              "      <td>2020-02-24T18:00:00</td>\n",
              "      <td>ITA</td>\n",
              "      <td>15</td>\n",
              "      <td>Campania</td>\n",
              "      <td>40.839566</td>\n",
              "      <td>14.250850</td>\n",
              "      <td>0</td>\n",
              "      <td>0</td>\n",
              "      <td>0</td>\n",
              "      <td>0</td>\n",
              "      <td>0</td>\n",
              "      <td>0</td>\n",
              "      <td>0</td>\n",
              "      <td>0</td>\n",
              "      <td>0</td>\n",
              "      <td>NaN</td>\n",
              "    </tr>\n",
              "    <tr>\n",
              "      <th>4</th>\n",
              "      <td>4</td>\n",
              "      <td>2020-02-24T18:00:00</td>\n",
              "      <td>ITA</td>\n",
              "      <td>8</td>\n",
              "      <td>Emilia-Romagna</td>\n",
              "      <td>44.494367</td>\n",
              "      <td>11.341721</td>\n",
              "      <td>10</td>\n",
              "      <td>2</td>\n",
              "      <td>12</td>\n",
              "      <td>6</td>\n",
              "      <td>18</td>\n",
              "      <td>18</td>\n",
              "      <td>0</td>\n",
              "      <td>0</td>\n",
              "      <td>18</td>\n",
              "      <td>NaN</td>\n",
              "    </tr>\n",
              "  </tbody>\n",
              "</table>\n",
              "</div>"
            ],
            "text/plain": [
              "   SNo                 Date Country  ...  Deaths TotalPositiveCases  TestsPerformed\n",
              "0    0  2020-02-24T18:00:00     ITA  ...       0                  0             NaN\n",
              "1    1  2020-02-24T18:00:00     ITA  ...       0                  0             NaN\n",
              "2    2  2020-02-24T18:00:00     ITA  ...       0                  0             NaN\n",
              "3    3  2020-02-24T18:00:00     ITA  ...       0                  0             NaN\n",
              "4    4  2020-02-24T18:00:00     ITA  ...       0                 18             NaN\n",
              "\n",
              "[5 rows x 17 columns]"
            ]
          },
          "metadata": {
            "tags": []
          },
          "execution_count": 17
        }
      ]
    },
    {
      "cell_type": "code",
      "metadata": {
        "id": "6U79IETt8tf3",
        "colab_type": "code",
        "colab": {
          "base_uri": "https://localhost:8080/",
          "height": 323
        },
        "outputId": "5390e04e-3655-4bbf-d633-421fe3acbbc6"
      },
      "source": [
        "region.dtypes"
      ],
      "execution_count": 19,
      "outputs": [
        {
          "output_type": "execute_result",
          "data": {
            "text/plain": [
              "SNo                            int64\n",
              "Date                          object\n",
              "Country                       object\n",
              "RegionCode                     int64\n",
              "RegionName                    object\n",
              "Latitude                     float64\n",
              "Longitude                    float64\n",
              "HospitalizedPatients           int64\n",
              "IntensiveCarePatients          int64\n",
              "TotalHospitalizedPatients      int64\n",
              "HomeConfinement                int64\n",
              "CurrentPositiveCases           int64\n",
              "NewPositiveCases               int64\n",
              "Recovered                      int64\n",
              "Deaths                         int64\n",
              "TotalPositiveCases             int64\n",
              "TestsPerformed               float64\n",
              "dtype: object"
            ]
          },
          "metadata": {
            "tags": []
          },
          "execution_count": 19
        }
      ]
    },
    {
      "cell_type": "code",
      "metadata": {
        "id": "vXd_oVsR9KgP",
        "colab_type": "code",
        "colab": {
          "base_uri": "https://localhost:8080/",
          "height": 102
        },
        "outputId": "09460a6c-fc25-416c-8c0d-af2ecdb12214"
      },
      "source": [
        "region['RegionName'].unique()"
      ],
      "execution_count": 21,
      "outputs": [
        {
          "output_type": "execute_result",
          "data": {
            "text/plain": [
              "array(['Abruzzo', 'Basilicata', 'Calabria', 'Campania', 'Emilia-Romagna',\n",
              "       'Friuli Venezia Giulia', 'Lazio', 'Liguria', 'Lombardia', 'Marche',\n",
              "       'Molise', 'P.A. Bolzano', 'P.A. Trento', 'Piemonte', 'Puglia',\n",
              "       'Sardegna', 'Sicilia', 'Toscana', 'Umbria', \"Valle d'Aosta\",\n",
              "       'Veneto'], dtype=object)"
            ]
          },
          "metadata": {
            "tags": []
          },
          "execution_count": 21
        }
      ]
    },
    {
      "cell_type": "code",
      "metadata": {
        "id": "fmVZ0YY79NoK",
        "colab_type": "code",
        "colab": {
          "base_uri": "https://localhost:8080/",
          "height": 34
        },
        "outputId": "4abe2b7c-80ac-468c-fe3f-4529a361e763"
      },
      "source": [
        "region['NewPositiveCases'].sum()"
      ],
      "execution_count": 27,
      "outputs": [
        {
          "output_type": "execute_result",
          "data": {
            "text/plain": [
              "244666"
            ]
          },
          "metadata": {
            "tags": []
          },
          "execution_count": 27
        }
      ]
    },
    {
      "cell_type": "code",
      "metadata": {
        "id": "cFUmMFXF_4CJ",
        "colab_type": "code",
        "colab": {}
      },
      "source": [
        "abruzzo = region[(region['RegionName'] == 'Abruzzo')]\n",
        "basilicata = region[(region['RegionName'] == 'Basilicata')]\n",
        "calabria = region[(region['RegionName'] == 'Calabria')]\n",
        "campania = region[(region['RegionName'] == 'Campania')]\n",
        "emilia = region[(region['RegionName'] == 'Emilia-Romagna')]\n",
        "friuli = region[(region['RegionName'] == 'Friuli Venezia Giulia')]\n",
        "lazio = region[(region['RegionName'] == 'Lazio')]\n",
        "liguria = region[(region['RegionName'] == 'Liguria')]\n",
        "lombardia = region[(region['RegionName'] == 'Lombardia')]\n",
        "marche = region[(region['RegionName'] == 'Marche')]\n",
        "molise = region[(region['RegionName'] == 'Molise')]\n",
        "pab = region[(region['RegionName'] == 'P.A. Bolzano')]\n",
        "pat = region[(region['RegionName'] == 'P.A. Trento')]\n",
        "piemonte = region[(region['RegionName'] == 'Piemonte')]\n",
        "puglia = region[(region['RegionName'] == 'Puglia')]\n",
        "sardegna = region[(region['RegionName'] == 'Sardegna')]\n",
        "sicilia = region[(region['RegionName'] == 'Sicilia')]\n",
        "toscana = region[(region['RegionName'] == 'Toscana')]\n",
        "umbria = region[(region['RegionName'] == 'Umbria')]\n",
        "valle = region[(region['RegionName'] == \"Valle d'Aosta\")]\n",
        "veneto = region[(region['RegionName'] == 'Veneto')]"
      ],
      "execution_count": 24,
      "outputs": []
    },
    {
      "cell_type": "code",
      "metadata": {
        "id": "hMBVhqvDD7gY",
        "colab_type": "code",
        "colab": {
          "base_uri": "https://localhost:8080/",
          "height": 391
        },
        "outputId": "361c2f95-7770-457c-b49f-0482978631e6"
      },
      "source": [
        "print(\"TOTAL POSITIVE CASES:\")\n",
        "print(\"Abruzzo: \", abruzzo['NewPositiveCases'].sum())\n",
        "print(\"Basilicata: \", basilicata['NewPositiveCases'].sum())\n",
        "print(\"Calabria: \", calabria['NewPositiveCases'].sum())\n",
        "print(\"Campania: \", campania['NewPositiveCases'].sum())\n",
        "print(\"Emilia-Romagna: \", emilia['NewPositiveCases'].sum())\n",
        "print(\"Friuli Venezia Giulia: \", friuli['NewPositiveCases'].sum())\n",
        "print(\"Lazio: \", lazio['NewPositiveCases'].sum())\n",
        "print(\"Liguria: \", liguria['NewPositiveCases'].sum())\n",
        "print(\"Lombardia: \", lombardia['NewPositiveCases'].sum())\n",
        "print(\"Marche: \", marche['NewPositiveCases'].sum())\n",
        "print(\"Molise: \", molise['NewPositiveCases'].sum())\n",
        "print(\"P.A. Bolzano: \", pab['NewPositiveCases'].sum())\n",
        "print(\"P.A. Trento: \", pat['NewPositiveCases'].sum())\n",
        "print(\"Piemonte: \", piemonte['NewPositiveCases'].sum())\n",
        "print(\"Puglia: \", puglia['NewPositiveCases'].sum())\n",
        "print(\"Sardegna: \", sardegna['NewPositiveCases'].sum())\n",
        "print(\"Sicilia: \", sicilia['NewPositiveCases'].sum())\n",
        "print(\"Toscana: \", toscana['NewPositiveCases'].sum())\n",
        "print(\"Umbria: \", umbria['NewPositiveCases'].sum())\n",
        "print(\"Valle d'Aosta: \", valle['NewPositiveCases'].sum())\n",
        "print(\"Veneto: \", veneto['NewPositiveCases'].sum())"
      ],
      "execution_count": 28,
      "outputs": [
        {
          "output_type": "stream",
          "text": [
            "TOTAL POSITIVE CASES:\n",
            "Abruzzo:  3347\n",
            "Basilicata:  409\n",
            "Calabria:  1240\n",
            "Campania:  4833\n",
            "Emilia-Romagna:  29241\n",
            "Friuli Venezia Giulia:  3356\n",
            "Lazio:  8449\n",
            "Liguria:  10105\n",
            "Lombardia:  95542\n",
            "Marche:  6813\n",
            "Molise:  446\n",
            "P.A. Bolzano:  2683\n",
            "P.A. Trento:  4502\n",
            "Piemonte:  31537\n",
            "Puglia:  4559\n",
            "Sardegna:  1388\n",
            "Sicilia:  3541\n",
            "Toscana:  10375\n",
            "Umbria:  1456\n",
            "Valle d'Aosta:  1196\n",
            "Veneto:  19648\n"
          ],
          "name": "stdout"
        }
      ]
    },
    {
      "cell_type": "markdown",
      "metadata": {
        "id": "pXU2brkDGgdC",
        "colab_type": "text"
      },
      "source": [
        "The hardest-hit regions of Italy so far are the following:\n",
        "\n",
        "\n",
        "*   **Lombardia** with **95,542** positive cases;\n",
        "*   **Piemonte** with **31,537** positive cases;\n",
        "*   **Emilia-Romagna** with **29,241** positive cases;\n",
        "*   **Veneto** with **19,648** positive cases;\n",
        "*   **Toscana** with **10,375** positive cases; and\n",
        "*   **Liguria** with **10,105** positive cases.\n",
        "\n",
        "**Basilicata** is the least-hard hit region at **409** total positive cases."
      ]
    },
    {
      "cell_type": "markdown",
      "metadata": {
        "id": "FGFB16YUItXu",
        "colab_type": "text"
      },
      "source": [
        "### On which days were the infection rates most severe? Least severe?"
      ]
    },
    {
      "cell_type": "code",
      "metadata": {
        "id": "nIi6sjyEF2wt",
        "colab_type": "code",
        "colab": {
          "base_uri": "https://localhost:8080/",
          "height": 213
        },
        "outputId": "f1268257-3f4a-4647-9df8-b88d32838444"
      },
      "source": [
        "(lombardia.sort_values('NewPositiveCases')).head(3)"
      ],
      "execution_count": 31,
      "outputs": [
        {
          "output_type": "execute_result",
          "data": {
            "text/html": [
              "<div>\n",
              "<style scoped>\n",
              "    .dataframe tbody tr th:only-of-type {\n",
              "        vertical-align: middle;\n",
              "    }\n",
              "\n",
              "    .dataframe tbody tr th {\n",
              "        vertical-align: top;\n",
              "    }\n",
              "\n",
              "    .dataframe thead th {\n",
              "        text-align: right;\n",
              "    }\n",
              "</style>\n",
              "<table border=\"1\" class=\"dataframe\">\n",
              "  <thead>\n",
              "    <tr style=\"text-align: right;\">\n",
              "      <th></th>\n",
              "      <th>SNo</th>\n",
              "      <th>Date</th>\n",
              "      <th>Country</th>\n",
              "      <th>RegionCode</th>\n",
              "      <th>RegionName</th>\n",
              "      <th>Latitude</th>\n",
              "      <th>Longitude</th>\n",
              "      <th>HospitalizedPatients</th>\n",
              "      <th>IntensiveCarePatients</th>\n",
              "      <th>TotalHospitalizedPatients</th>\n",
              "      <th>HomeConfinement</th>\n",
              "      <th>CurrentPositiveCases</th>\n",
              "      <th>NewPositiveCases</th>\n",
              "      <th>Recovered</th>\n",
              "      <th>Deaths</th>\n",
              "      <th>TotalPositiveCases</th>\n",
              "      <th>TestsPerformed</th>\n",
              "    </tr>\n",
              "  </thead>\n",
              "  <tbody>\n",
              "    <tr>\n",
              "      <th>50</th>\n",
              "      <td>50</td>\n",
              "      <td>2020-02-26T18:00:00</td>\n",
              "      <td>ITA</td>\n",
              "      <td>3</td>\n",
              "      <td>Lombardia</td>\n",
              "      <td>45.466794</td>\n",
              "      <td>9.190347</td>\n",
              "      <td>79</td>\n",
              "      <td>25</td>\n",
              "      <td>104</td>\n",
              "      <td>145</td>\n",
              "      <td>249</td>\n",
              "      <td>18</td>\n",
              "      <td>0</td>\n",
              "      <td>9</td>\n",
              "      <td>258</td>\n",
              "      <td>NaN</td>\n",
              "    </tr>\n",
              "    <tr>\n",
              "      <th>2969</th>\n",
              "      <td>2969</td>\n",
              "      <td>2020-07-14T17:00:00</td>\n",
              "      <td>ITA</td>\n",
              "      <td>3</td>\n",
              "      <td>Lombardia</td>\n",
              "      <td>45.466794</td>\n",
              "      <td>9.190347</td>\n",
              "      <td>176</td>\n",
              "      <td>27</td>\n",
              "      <td>203</td>\n",
              "      <td>7749</td>\n",
              "      <td>7952</td>\n",
              "      <td>30</td>\n",
              "      <td>70461</td>\n",
              "      <td>16760</td>\n",
              "      <td>95173</td>\n",
              "      <td>693556.0</td>\n",
              "    </tr>\n",
              "    <tr>\n",
              "      <th>3074</th>\n",
              "      <td>3074</td>\n",
              "      <td>2020-07-19T17:00:00</td>\n",
              "      <td>ITA</td>\n",
              "      <td>3</td>\n",
              "      <td>Lombardia</td>\n",
              "      <td>45.466794</td>\n",
              "      <td>9.190347</td>\n",
              "      <td>148</td>\n",
              "      <td>22</td>\n",
              "      <td>170</td>\n",
              "      <td>7070</td>\n",
              "      <td>7240</td>\n",
              "      <td>33</td>\n",
              "      <td>71464</td>\n",
              "      <td>16788</td>\n",
              "      <td>95492</td>\n",
              "      <td>721640.0</td>\n",
              "    </tr>\n",
              "  </tbody>\n",
              "</table>\n",
              "</div>"
            ],
            "text/plain": [
              "       SNo                 Date  ... TotalPositiveCases  TestsPerformed\n",
              "50      50  2020-02-26T18:00:00  ...                258             NaN\n",
              "2969  2969  2020-07-14T17:00:00  ...              95173        693556.0\n",
              "3074  3074  2020-07-19T17:00:00  ...              95492        721640.0\n",
              "\n",
              "[3 rows x 17 columns]"
            ]
          },
          "metadata": {
            "tags": []
          },
          "execution_count": 31
        }
      ]
    },
    {
      "cell_type": "code",
      "metadata": {
        "id": "rpKkjIxKNOM6",
        "colab_type": "code",
        "colab": {
          "base_uri": "https://localhost:8080/",
          "height": 213
        },
        "outputId": "47973c2b-44eb-4a29-96fc-9ed204514554"
      },
      "source": [
        "(lombardia.sort_values('NewPositiveCases')).tail(3)"
      ],
      "execution_count": 32,
      "outputs": [
        {
          "output_type": "execute_result",
          "data": {
            "text/html": [
              "<div>\n",
              "<style scoped>\n",
              "    .dataframe tbody tr th:only-of-type {\n",
              "        vertical-align: middle;\n",
              "    }\n",
              "\n",
              "    .dataframe tbody tr th {\n",
              "        vertical-align: top;\n",
              "    }\n",
              "\n",
              "    .dataframe thead th {\n",
              "        text-align: right;\n",
              "    }\n",
              "</style>\n",
              "<table border=\"1\" class=\"dataframe\">\n",
              "  <thead>\n",
              "    <tr style=\"text-align: right;\">\n",
              "      <th></th>\n",
              "      <th>SNo</th>\n",
              "      <th>Date</th>\n",
              "      <th>Country</th>\n",
              "      <th>RegionCode</th>\n",
              "      <th>RegionName</th>\n",
              "      <th>Latitude</th>\n",
              "      <th>Longitude</th>\n",
              "      <th>HospitalizedPatients</th>\n",
              "      <th>IntensiveCarePatients</th>\n",
              "      <th>TotalHospitalizedPatients</th>\n",
              "      <th>HomeConfinement</th>\n",
              "      <th>CurrentPositiveCases</th>\n",
              "      <th>NewPositiveCases</th>\n",
              "      <th>Recovered</th>\n",
              "      <th>Deaths</th>\n",
              "      <th>TotalPositiveCases</th>\n",
              "      <th>TestsPerformed</th>\n",
              "    </tr>\n",
              "  </thead>\n",
              "  <tbody>\n",
              "    <tr>\n",
              "      <th>680</th>\n",
              "      <td>680</td>\n",
              "      <td>2020-03-27T17:00:00</td>\n",
              "      <td>ITA</td>\n",
              "      <td>3</td>\n",
              "      <td>Lombardia</td>\n",
              "      <td>45.466794</td>\n",
              "      <td>9.190347</td>\n",
              "      <td>11137</td>\n",
              "      <td>1292</td>\n",
              "      <td>12429</td>\n",
              "      <td>11466</td>\n",
              "      <td>23895</td>\n",
              "      <td>2409</td>\n",
              "      <td>8001</td>\n",
              "      <td>5402</td>\n",
              "      <td>37298</td>\n",
              "      <td>NaN</td>\n",
              "    </tr>\n",
              "    <tr>\n",
              "      <th>659</th>\n",
              "      <td>659</td>\n",
              "      <td>2020-03-26T17:00:00</td>\n",
              "      <td>ITA</td>\n",
              "      <td>3</td>\n",
              "      <td>Lombardia</td>\n",
              "      <td>45.466794</td>\n",
              "      <td>9.190347</td>\n",
              "      <td>10681</td>\n",
              "      <td>1263</td>\n",
              "      <td>11944</td>\n",
              "      <td>10245</td>\n",
              "      <td>22189</td>\n",
              "      <td>2543</td>\n",
              "      <td>7839</td>\n",
              "      <td>4861</td>\n",
              "      <td>34889</td>\n",
              "      <td>NaN</td>\n",
              "    </tr>\n",
              "    <tr>\n",
              "      <th>554</th>\n",
              "      <td>554</td>\n",
              "      <td>2020-03-21T17:00:00</td>\n",
              "      <td>ITA</td>\n",
              "      <td>3</td>\n",
              "      <td>Lombardia</td>\n",
              "      <td>45.466794</td>\n",
              "      <td>9.190347</td>\n",
              "      <td>8258</td>\n",
              "      <td>1093</td>\n",
              "      <td>9351</td>\n",
              "      <td>8019</td>\n",
              "      <td>17370</td>\n",
              "      <td>3251</td>\n",
              "      <td>5050</td>\n",
              "      <td>3095</td>\n",
              "      <td>25515</td>\n",
              "      <td>NaN</td>\n",
              "    </tr>\n",
              "  </tbody>\n",
              "</table>\n",
              "</div>"
            ],
            "text/plain": [
              "     SNo                 Date  ... TotalPositiveCases  TestsPerformed\n",
              "680  680  2020-03-27T17:00:00  ...              37298             NaN\n",
              "659  659  2020-03-26T17:00:00  ...              34889             NaN\n",
              "554  554  2020-03-21T17:00:00  ...              25515             NaN\n",
              "\n",
              "[3 rows x 17 columns]"
            ]
          },
          "metadata": {
            "tags": []
          },
          "execution_count": 32
        }
      ]
    },
    {
      "cell_type": "code",
      "metadata": {
        "id": "orvHbt_wNcB_",
        "colab_type": "code",
        "colab": {
          "base_uri": "https://localhost:8080/",
          "height": 309
        },
        "outputId": "da8e3251-8ab5-4a04-b4d1-0d550a61cfb4"
      },
      "source": [
        "(basilicata.sort_values('NewPositiveCases')).head(5)"
      ],
      "execution_count": 36,
      "outputs": [
        {
          "output_type": "execute_result",
          "data": {
            "text/html": [
              "<div>\n",
              "<style scoped>\n",
              "    .dataframe tbody tr th:only-of-type {\n",
              "        vertical-align: middle;\n",
              "    }\n",
              "\n",
              "    .dataframe tbody tr th {\n",
              "        vertical-align: top;\n",
              "    }\n",
              "\n",
              "    .dataframe thead th {\n",
              "        text-align: right;\n",
              "    }\n",
              "</style>\n",
              "<table border=\"1\" class=\"dataframe\">\n",
              "  <thead>\n",
              "    <tr style=\"text-align: right;\">\n",
              "      <th></th>\n",
              "      <th>SNo</th>\n",
              "      <th>Date</th>\n",
              "      <th>Country</th>\n",
              "      <th>RegionCode</th>\n",
              "      <th>RegionName</th>\n",
              "      <th>Latitude</th>\n",
              "      <th>Longitude</th>\n",
              "      <th>HospitalizedPatients</th>\n",
              "      <th>IntensiveCarePatients</th>\n",
              "      <th>TotalHospitalizedPatients</th>\n",
              "      <th>HomeConfinement</th>\n",
              "      <th>CurrentPositiveCases</th>\n",
              "      <th>NewPositiveCases</th>\n",
              "      <th>Recovered</th>\n",
              "      <th>Deaths</th>\n",
              "      <th>TotalPositiveCases</th>\n",
              "      <th>TestsPerformed</th>\n",
              "    </tr>\n",
              "  </thead>\n",
              "  <tbody>\n",
              "    <tr>\n",
              "      <th>1534</th>\n",
              "      <td>1534</td>\n",
              "      <td>2020-05-07T17:00:00</td>\n",
              "      <td>ITA</td>\n",
              "      <td>17</td>\n",
              "      <td>Basilicata</td>\n",
              "      <td>40.639471</td>\n",
              "      <td>15.805148</td>\n",
              "      <td>48</td>\n",
              "      <td>2</td>\n",
              "      <td>50</td>\n",
              "      <td>105</td>\n",
              "      <td>155</td>\n",
              "      <td>-16</td>\n",
              "      <td>202</td>\n",
              "      <td>26</td>\n",
              "      <td>383</td>\n",
              "      <td>15780.0</td>\n",
              "    </tr>\n",
              "    <tr>\n",
              "      <th>1555</th>\n",
              "      <td>1555</td>\n",
              "      <td>2020-05-08T17:00:00</td>\n",
              "      <td>ITA</td>\n",
              "      <td>17</td>\n",
              "      <td>Basilicata</td>\n",
              "      <td>40.639471</td>\n",
              "      <td>15.805148</td>\n",
              "      <td>48</td>\n",
              "      <td>2</td>\n",
              "      <td>50</td>\n",
              "      <td>102</td>\n",
              "      <td>152</td>\n",
              "      <td>-1</td>\n",
              "      <td>204</td>\n",
              "      <td>26</td>\n",
              "      <td>382</td>\n",
              "      <td>16285.0</td>\n",
              "    </tr>\n",
              "    <tr>\n",
              "      <th>2311</th>\n",
              "      <td>2311</td>\n",
              "      <td>2020-06-13T17:00:00</td>\n",
              "      <td>ITA</td>\n",
              "      <td>17</td>\n",
              "      <td>Basilicata</td>\n",
              "      <td>40.639471</td>\n",
              "      <td>15.805148</td>\n",
              "      <td>0</td>\n",
              "      <td>1</td>\n",
              "      <td>1</td>\n",
              "      <td>10</td>\n",
              "      <td>11</td>\n",
              "      <td>0</td>\n",
              "      <td>363</td>\n",
              "      <td>27</td>\n",
              "      <td>401</td>\n",
              "      <td>33891.0</td>\n",
              "    </tr>\n",
              "    <tr>\n",
              "      <th>2290</th>\n",
              "      <td>2290</td>\n",
              "      <td>2020-06-12T17:00:00</td>\n",
              "      <td>ITA</td>\n",
              "      <td>17</td>\n",
              "      <td>Basilicata</td>\n",
              "      <td>40.639471</td>\n",
              "      <td>15.805148</td>\n",
              "      <td>0</td>\n",
              "      <td>1</td>\n",
              "      <td>1</td>\n",
              "      <td>11</td>\n",
              "      <td>12</td>\n",
              "      <td>0</td>\n",
              "      <td>362</td>\n",
              "      <td>27</td>\n",
              "      <td>401</td>\n",
              "      <td>33587.0</td>\n",
              "    </tr>\n",
              "    <tr>\n",
              "      <th>2248</th>\n",
              "      <td>2248</td>\n",
              "      <td>2020-06-10T17:00:00</td>\n",
              "      <td>ITA</td>\n",
              "      <td>17</td>\n",
              "      <td>Basilicata</td>\n",
              "      <td>40.639471</td>\n",
              "      <td>15.805148</td>\n",
              "      <td>1</td>\n",
              "      <td>0</td>\n",
              "      <td>1</td>\n",
              "      <td>10</td>\n",
              "      <td>11</td>\n",
              "      <td>0</td>\n",
              "      <td>362</td>\n",
              "      <td>27</td>\n",
              "      <td>400</td>\n",
              "      <td>32761.0</td>\n",
              "    </tr>\n",
              "  </tbody>\n",
              "</table>\n",
              "</div>"
            ],
            "text/plain": [
              "       SNo                 Date  ... TotalPositiveCases  TestsPerformed\n",
              "1534  1534  2020-05-07T17:00:00  ...                383         15780.0\n",
              "1555  1555  2020-05-08T17:00:00  ...                382         16285.0\n",
              "2311  2311  2020-06-13T17:00:00  ...                401         33891.0\n",
              "2290  2290  2020-06-12T17:00:00  ...                401         33587.0\n",
              "2248  2248  2020-06-10T17:00:00  ...                400         32761.0\n",
              "\n",
              "[5 rows x 17 columns]"
            ]
          },
          "metadata": {
            "tags": []
          },
          "execution_count": 36
        }
      ]
    },
    {
      "cell_type": "code",
      "metadata": {
        "id": "cm08uoYeN_Mv",
        "colab_type": "code",
        "colab": {
          "base_uri": "https://localhost:8080/",
          "height": 213
        },
        "outputId": "de4d53d9-b44c-4ae0-bb08-cf01d4742e6e"
      },
      "source": [
        "(basilicata.sort_values('NewPositiveCases')).tail(3)"
      ],
      "execution_count": 35,
      "outputs": [
        {
          "output_type": "execute_result",
          "data": {
            "text/html": [
              "<div>\n",
              "<style scoped>\n",
              "    .dataframe tbody tr th:only-of-type {\n",
              "        vertical-align: middle;\n",
              "    }\n",
              "\n",
              "    .dataframe tbody tr th {\n",
              "        vertical-align: top;\n",
              "    }\n",
              "\n",
              "    .dataframe thead th {\n",
              "        text-align: right;\n",
              "    }\n",
              "</style>\n",
              "<table border=\"1\" class=\"dataframe\">\n",
              "  <thead>\n",
              "    <tr style=\"text-align: right;\">\n",
              "      <th></th>\n",
              "      <th>SNo</th>\n",
              "      <th>Date</th>\n",
              "      <th>Country</th>\n",
              "      <th>RegionCode</th>\n",
              "      <th>RegionName</th>\n",
              "      <th>Latitude</th>\n",
              "      <th>Longitude</th>\n",
              "      <th>HospitalizedPatients</th>\n",
              "      <th>IntensiveCarePatients</th>\n",
              "      <th>TotalHospitalizedPatients</th>\n",
              "      <th>HomeConfinement</th>\n",
              "      <th>CurrentPositiveCases</th>\n",
              "      <th>NewPositiveCases</th>\n",
              "      <th>Recovered</th>\n",
              "      <th>Deaths</th>\n",
              "      <th>TotalPositiveCases</th>\n",
              "      <th>TestsPerformed</th>\n",
              "    </tr>\n",
              "  </thead>\n",
              "  <tbody>\n",
              "    <tr>\n",
              "      <th>631</th>\n",
              "      <td>631</td>\n",
              "      <td>2020-03-25T17:00:00</td>\n",
              "      <td>ITA</td>\n",
              "      <td>17</td>\n",
              "      <td>Basilicata</td>\n",
              "      <td>40.639471</td>\n",
              "      <td>15.805148</td>\n",
              "      <td>20</td>\n",
              "      <td>14</td>\n",
              "      <td>34</td>\n",
              "      <td>78</td>\n",
              "      <td>112</td>\n",
              "      <td>21</td>\n",
              "      <td>0</td>\n",
              "      <td>1</td>\n",
              "      <td>113</td>\n",
              "      <td>NaN</td>\n",
              "    </tr>\n",
              "    <tr>\n",
              "      <th>652</th>\n",
              "      <td>652</td>\n",
              "      <td>2020-03-26T17:00:00</td>\n",
              "      <td>ITA</td>\n",
              "      <td>17</td>\n",
              "      <td>Basilicata</td>\n",
              "      <td>40.639471</td>\n",
              "      <td>15.805148</td>\n",
              "      <td>22</td>\n",
              "      <td>16</td>\n",
              "      <td>38</td>\n",
              "      <td>95</td>\n",
              "      <td>133</td>\n",
              "      <td>21</td>\n",
              "      <td>0</td>\n",
              "      <td>1</td>\n",
              "      <td>134</td>\n",
              "      <td>NaN</td>\n",
              "    </tr>\n",
              "    <tr>\n",
              "      <th>694</th>\n",
              "      <td>694</td>\n",
              "      <td>2020-03-28T17:00:00</td>\n",
              "      <td>ITA</td>\n",
              "      <td>17</td>\n",
              "      <td>Basilicata</td>\n",
              "      <td>40.639471</td>\n",
              "      <td>15.805148</td>\n",
              "      <td>26</td>\n",
              "      <td>19</td>\n",
              "      <td>45</td>\n",
              "      <td>133</td>\n",
              "      <td>178</td>\n",
              "      <td>31</td>\n",
              "      <td>1</td>\n",
              "      <td>3</td>\n",
              "      <td>182</td>\n",
              "      <td>NaN</td>\n",
              "    </tr>\n",
              "  </tbody>\n",
              "</table>\n",
              "</div>"
            ],
            "text/plain": [
              "     SNo                 Date  ... TotalPositiveCases  TestsPerformed\n",
              "631  631  2020-03-25T17:00:00  ...                113             NaN\n",
              "652  652  2020-03-26T17:00:00  ...                134             NaN\n",
              "694  694  2020-03-28T17:00:00  ...                182             NaN\n",
              "\n",
              "[3 rows x 17 columns]"
            ]
          },
          "metadata": {
            "tags": []
          },
          "execution_count": 35
        }
      ]
    },
    {
      "cell_type": "markdown",
      "metadata": {
        "id": "bFhKJPcCOGXl",
        "colab_type": "text"
      },
      "source": [
        "For the hardest-hit region of **Lombardia**:\n",
        "* The **most severe** days were:\n",
        "   * **March 21st, 2020** with **3,251** new cases;\n",
        "   * **March 26th, 2020** with **2,543** new cases;\n",
        "   * **March 27th, 2020** with **2,409** new cases.\n",
        "* The **least severe** days were:\n",
        "   * **February 26th, 2020** with **18** new cases;\n",
        "   * **July 14th, 2020** with **30** new cases;\n",
        "   * **July 19th, 2020** with **33** new cases.\n",
        "\n",
        "For the least-hard hit region of **Basilicata**:\n",
        "* The **most severe** days were:\n",
        "  * **March 28th, 2020** with **31** new cases;\n",
        "  * **March 26th, 2020** with **21** new cases;\n",
        "  * **March 25th, 2020** with **21** new cases.\n",
        "* The **least severe days** were:\n",
        "  * **June 10th, 12th, & 13th** with **0** new cases.\n",
        "  * _There are two rows on the dataframe with negative values in the column for \"NewPositiveCases\"; this must be in error_"
      ]
    },
    {
      "cell_type": "markdown",
      "metadata": {
        "id": "8LjX0xmRQuQv",
        "colab_type": "text"
      },
      "source": [
        "### What is the fatality rate?"
      ]
    },
    {
      "cell_type": "code",
      "metadata": {
        "id": "Ycd8iom2OFai",
        "colab_type": "code",
        "colab": {
          "base_uri": "https://localhost:8080/",
          "height": 117
        },
        "outputId": "db83440c-7fe0-49e3-e336-6e214c834651"
      },
      "source": [
        "(lombardia.sort_values('Deaths')).tail(1)"
      ],
      "execution_count": 40,
      "outputs": [
        {
          "output_type": "execute_result",
          "data": {
            "text/html": [
              "<div>\n",
              "<style scoped>\n",
              "    .dataframe tbody tr th:only-of-type {\n",
              "        vertical-align: middle;\n",
              "    }\n",
              "\n",
              "    .dataframe tbody tr th {\n",
              "        vertical-align: top;\n",
              "    }\n",
              "\n",
              "    .dataframe thead th {\n",
              "        text-align: right;\n",
              "    }\n",
              "</style>\n",
              "<table border=\"1\" class=\"dataframe\">\n",
              "  <thead>\n",
              "    <tr style=\"text-align: right;\">\n",
              "      <th></th>\n",
              "      <th>SNo</th>\n",
              "      <th>Date</th>\n",
              "      <th>Country</th>\n",
              "      <th>RegionCode</th>\n",
              "      <th>RegionName</th>\n",
              "      <th>Latitude</th>\n",
              "      <th>Longitude</th>\n",
              "      <th>HospitalizedPatients</th>\n",
              "      <th>IntensiveCarePatients</th>\n",
              "      <th>TotalHospitalizedPatients</th>\n",
              "      <th>HomeConfinement</th>\n",
              "      <th>CurrentPositiveCases</th>\n",
              "      <th>NewPositiveCases</th>\n",
              "      <th>Recovered</th>\n",
              "      <th>Deaths</th>\n",
              "      <th>TotalPositiveCases</th>\n",
              "      <th>TestsPerformed</th>\n",
              "    </tr>\n",
              "  </thead>\n",
              "  <tbody>\n",
              "    <tr>\n",
              "      <th>3095</th>\n",
              "      <td>3095</td>\n",
              "      <td>2020-07-20T17:00:00</td>\n",
              "      <td>ITA</td>\n",
              "      <td>3</td>\n",
              "      <td>Lombardia</td>\n",
              "      <td>45.466794</td>\n",
              "      <td>9.190347</td>\n",
              "      <td>151</td>\n",
              "      <td>21</td>\n",
              "      <td>172</td>\n",
              "      <td>6969</td>\n",
              "      <td>7141</td>\n",
              "      <td>56</td>\n",
              "      <td>71611</td>\n",
              "      <td>16796</td>\n",
              "      <td>95548</td>\n",
              "      <td>724365.0</td>\n",
              "    </tr>\n",
              "  </tbody>\n",
              "</table>\n",
              "</div>"
            ],
            "text/plain": [
              "       SNo                 Date  ... TotalPositiveCases  TestsPerformed\n",
              "3095  3095  2020-07-20T17:00:00  ...              95548        724365.0\n",
              "\n",
              "[1 rows x 17 columns]"
            ]
          },
          "metadata": {
            "tags": []
          },
          "execution_count": 40
        }
      ]
    },
    {
      "cell_type": "code",
      "metadata": {
        "id": "FzNhFI97WAO_",
        "colab_type": "code",
        "colab": {
          "base_uri": "https://localhost:8080/",
          "height": 117
        },
        "outputId": "201ea442-dd41-4a0f-84e6-8abd00414cb0"
      },
      "source": [
        "(piemonte.sort_values('Deaths')).tail(1)"
      ],
      "execution_count": 41,
      "outputs": [
        {
          "output_type": "execute_result",
          "data": {
            "text/html": [
              "<div>\n",
              "<style scoped>\n",
              "    .dataframe tbody tr th:only-of-type {\n",
              "        vertical-align: middle;\n",
              "    }\n",
              "\n",
              "    .dataframe tbody tr th {\n",
              "        vertical-align: top;\n",
              "    }\n",
              "\n",
              "    .dataframe thead th {\n",
              "        text-align: right;\n",
              "    }\n",
              "</style>\n",
              "<table border=\"1\" class=\"dataframe\">\n",
              "  <thead>\n",
              "    <tr style=\"text-align: right;\">\n",
              "      <th></th>\n",
              "      <th>SNo</th>\n",
              "      <th>Date</th>\n",
              "      <th>Country</th>\n",
              "      <th>RegionCode</th>\n",
              "      <th>RegionName</th>\n",
              "      <th>Latitude</th>\n",
              "      <th>Longitude</th>\n",
              "      <th>HospitalizedPatients</th>\n",
              "      <th>IntensiveCarePatients</th>\n",
              "      <th>TotalHospitalizedPatients</th>\n",
              "      <th>HomeConfinement</th>\n",
              "      <th>CurrentPositiveCases</th>\n",
              "      <th>NewPositiveCases</th>\n",
              "      <th>Recovered</th>\n",
              "      <th>Deaths</th>\n",
              "      <th>TotalPositiveCases</th>\n",
              "      <th>TestsPerformed</th>\n",
              "    </tr>\n",
              "  </thead>\n",
              "  <tbody>\n",
              "    <tr>\n",
              "      <th>3100</th>\n",
              "      <td>3100</td>\n",
              "      <td>2020-07-20T17:00:00</td>\n",
              "      <td>ITA</td>\n",
              "      <td>1</td>\n",
              "      <td>Piemonte</td>\n",
              "      <td>45.073274</td>\n",
              "      <td>7.680687</td>\n",
              "      <td>150</td>\n",
              "      <td>6</td>\n",
              "      <td>156</td>\n",
              "      <td>677</td>\n",
              "      <td>833</td>\n",
              "      <td>1</td>\n",
              "      <td>26584</td>\n",
              "      <td>4120</td>\n",
              "      <td>31537</td>\n",
              "      <td>288837.0</td>\n",
              "    </tr>\n",
              "  </tbody>\n",
              "</table>\n",
              "</div>"
            ],
            "text/plain": [
              "       SNo                 Date  ... TotalPositiveCases  TestsPerformed\n",
              "3100  3100  2020-07-20T17:00:00  ...              31537        288837.0\n",
              "\n",
              "[1 rows x 17 columns]"
            ]
          },
          "metadata": {
            "tags": []
          },
          "execution_count": 41
        }
      ]
    },
    {
      "cell_type": "code",
      "metadata": {
        "id": "kP59W6uWT3c1",
        "colab_type": "code",
        "colab": {
          "base_uri": "https://localhost:8080/",
          "height": 117
        },
        "outputId": "97011bba-d3ed-4973-c7a6-b899861b2f5f"
      },
      "source": [
        "(emilia.sort_values('Deaths')).tail(1)"
      ],
      "execution_count": 42,
      "outputs": [
        {
          "output_type": "execute_result",
          "data": {
            "text/html": [
              "<div>\n",
              "<style scoped>\n",
              "    .dataframe tbody tr th:only-of-type {\n",
              "        vertical-align: middle;\n",
              "    }\n",
              "\n",
              "    .dataframe tbody tr th {\n",
              "        vertical-align: top;\n",
              "    }\n",
              "\n",
              "    .dataframe thead th {\n",
              "        text-align: right;\n",
              "    }\n",
              "</style>\n",
              "<table border=\"1\" class=\"dataframe\">\n",
              "  <thead>\n",
              "    <tr style=\"text-align: right;\">\n",
              "      <th></th>\n",
              "      <th>SNo</th>\n",
              "      <th>Date</th>\n",
              "      <th>Country</th>\n",
              "      <th>RegionCode</th>\n",
              "      <th>RegionName</th>\n",
              "      <th>Latitude</th>\n",
              "      <th>Longitude</th>\n",
              "      <th>HospitalizedPatients</th>\n",
              "      <th>IntensiveCarePatients</th>\n",
              "      <th>TotalHospitalizedPatients</th>\n",
              "      <th>HomeConfinement</th>\n",
              "      <th>CurrentPositiveCases</th>\n",
              "      <th>NewPositiveCases</th>\n",
              "      <th>Recovered</th>\n",
              "      <th>Deaths</th>\n",
              "      <th>TotalPositiveCases</th>\n",
              "      <th>TestsPerformed</th>\n",
              "    </tr>\n",
              "  </thead>\n",
              "  <tbody>\n",
              "    <tr>\n",
              "      <th>3091</th>\n",
              "      <td>3091</td>\n",
              "      <td>2020-07-20T17:00:00</td>\n",
              "      <td>ITA</td>\n",
              "      <td>8</td>\n",
              "      <td>Emilia-Romagna</td>\n",
              "      <td>44.494367</td>\n",
              "      <td>11.341721</td>\n",
              "      <td>91</td>\n",
              "      <td>6</td>\n",
              "      <td>97</td>\n",
              "      <td>1201</td>\n",
              "      <td>1298</td>\n",
              "      <td>42</td>\n",
              "      <td>23645</td>\n",
              "      <td>4277</td>\n",
              "      <td>29220</td>\n",
              "      <td>346535.0</td>\n",
              "    </tr>\n",
              "  </tbody>\n",
              "</table>\n",
              "</div>"
            ],
            "text/plain": [
              "       SNo                 Date  ... TotalPositiveCases  TestsPerformed\n",
              "3091  3091  2020-07-20T17:00:00  ...              29220        346535.0\n",
              "\n",
              "[1 rows x 17 columns]"
            ]
          },
          "metadata": {
            "tags": []
          },
          "execution_count": 42
        }
      ]
    },
    {
      "cell_type": "code",
      "metadata": {
        "id": "Mh0z7xjiWEgP",
        "colab_type": "code",
        "colab": {
          "base_uri": "https://localhost:8080/",
          "height": 117
        },
        "outputId": "9cbf82f1-c94f-47aa-bc45-8a90915f8ad2"
      },
      "source": [
        "(veneto.sort_values('Deaths')).tail(1)"
      ],
      "execution_count": 43,
      "outputs": [
        {
          "output_type": "execute_result",
          "data": {
            "text/html": [
              "<div>\n",
              "<style scoped>\n",
              "    .dataframe tbody tr th:only-of-type {\n",
              "        vertical-align: middle;\n",
              "    }\n",
              "\n",
              "    .dataframe tbody tr th {\n",
              "        vertical-align: top;\n",
              "    }\n",
              "\n",
              "    .dataframe thead th {\n",
              "        text-align: right;\n",
              "    }\n",
              "</style>\n",
              "<table border=\"1\" class=\"dataframe\">\n",
              "  <thead>\n",
              "    <tr style=\"text-align: right;\">\n",
              "      <th></th>\n",
              "      <th>SNo</th>\n",
              "      <th>Date</th>\n",
              "      <th>Country</th>\n",
              "      <th>RegionCode</th>\n",
              "      <th>RegionName</th>\n",
              "      <th>Latitude</th>\n",
              "      <th>Longitude</th>\n",
              "      <th>HospitalizedPatients</th>\n",
              "      <th>IntensiveCarePatients</th>\n",
              "      <th>TotalHospitalizedPatients</th>\n",
              "      <th>HomeConfinement</th>\n",
              "      <th>CurrentPositiveCases</th>\n",
              "      <th>NewPositiveCases</th>\n",
              "      <th>Recovered</th>\n",
              "      <th>Deaths</th>\n",
              "      <th>TotalPositiveCases</th>\n",
              "      <th>TestsPerformed</th>\n",
              "    </tr>\n",
              "  </thead>\n",
              "  <tbody>\n",
              "    <tr>\n",
              "      <th>3107</th>\n",
              "      <td>3107</td>\n",
              "      <td>2020-07-20T17:00:00</td>\n",
              "      <td>ITA</td>\n",
              "      <td>5</td>\n",
              "      <td>Veneto</td>\n",
              "      <td>45.434905</td>\n",
              "      <td>12.338452</td>\n",
              "      <td>35</td>\n",
              "      <td>2</td>\n",
              "      <td>37</td>\n",
              "      <td>572</td>\n",
              "      <td>609</td>\n",
              "      <td>42</td>\n",
              "      <td>16990</td>\n",
              "      <td>2050</td>\n",
              "      <td>19649</td>\n",
              "      <td>457249.0</td>\n",
              "    </tr>\n",
              "  </tbody>\n",
              "</table>\n",
              "</div>"
            ],
            "text/plain": [
              "       SNo                 Date  ... TotalPositiveCases  TestsPerformed\n",
              "3107  3107  2020-07-20T17:00:00  ...              19649        457249.0\n",
              "\n",
              "[1 rows x 17 columns]"
            ]
          },
          "metadata": {
            "tags": []
          },
          "execution_count": 43
        }
      ]
    },
    {
      "cell_type": "code",
      "metadata": {
        "id": "x30X8r0kWErE",
        "colab_type": "code",
        "colab": {
          "base_uri": "https://localhost:8080/",
          "height": 117
        },
        "outputId": "69a15ce6-da5c-4ba8-fc15-b24ee854baf1"
      },
      "source": [
        "(toscana.sort_values('Deaths')).tail(1)"
      ],
      "execution_count": 44,
      "outputs": [
        {
          "output_type": "execute_result",
          "data": {
            "text/html": [
              "<div>\n",
              "<style scoped>\n",
              "    .dataframe tbody tr th:only-of-type {\n",
              "        vertical-align: middle;\n",
              "    }\n",
              "\n",
              "    .dataframe tbody tr th {\n",
              "        vertical-align: top;\n",
              "    }\n",
              "\n",
              "    .dataframe thead th {\n",
              "        text-align: right;\n",
              "    }\n",
              "</style>\n",
              "<table border=\"1\" class=\"dataframe\">\n",
              "  <thead>\n",
              "    <tr style=\"text-align: right;\">\n",
              "      <th></th>\n",
              "      <th>SNo</th>\n",
              "      <th>Date</th>\n",
              "      <th>Country</th>\n",
              "      <th>RegionCode</th>\n",
              "      <th>RegionName</th>\n",
              "      <th>Latitude</th>\n",
              "      <th>Longitude</th>\n",
              "      <th>HospitalizedPatients</th>\n",
              "      <th>IntensiveCarePatients</th>\n",
              "      <th>TotalHospitalizedPatients</th>\n",
              "      <th>HomeConfinement</th>\n",
              "      <th>CurrentPositiveCases</th>\n",
              "      <th>NewPositiveCases</th>\n",
              "      <th>Recovered</th>\n",
              "      <th>Deaths</th>\n",
              "      <th>TotalPositiveCases</th>\n",
              "      <th>TestsPerformed</th>\n",
              "    </tr>\n",
              "  </thead>\n",
              "  <tbody>\n",
              "    <tr>\n",
              "      <th>3104</th>\n",
              "      <td>3104</td>\n",
              "      <td>2020-07-20T17:00:00</td>\n",
              "      <td>ITA</td>\n",
              "      <td>9</td>\n",
              "      <td>Toscana</td>\n",
              "      <td>43.769231</td>\n",
              "      <td>11.255889</td>\n",
              "      <td>10</td>\n",
              "      <td>0</td>\n",
              "      <td>10</td>\n",
              "      <td>314</td>\n",
              "      <td>324</td>\n",
              "      <td>1</td>\n",
              "      <td>8921</td>\n",
              "      <td>1130</td>\n",
              "      <td>10375</td>\n",
              "      <td>261958.0</td>\n",
              "    </tr>\n",
              "  </tbody>\n",
              "</table>\n",
              "</div>"
            ],
            "text/plain": [
              "       SNo                 Date  ... TotalPositiveCases  TestsPerformed\n",
              "3104  3104  2020-07-20T17:00:00  ...              10375        261958.0\n",
              "\n",
              "[1 rows x 17 columns]"
            ]
          },
          "metadata": {
            "tags": []
          },
          "execution_count": 44
        }
      ]
    },
    {
      "cell_type": "code",
      "metadata": {
        "id": "69LW_gg_WIkW",
        "colab_type": "code",
        "colab": {
          "base_uri": "https://localhost:8080/",
          "height": 117
        },
        "outputId": "ec948cbe-bac7-485c-e2aa-895aa6a4224a"
      },
      "source": [
        "(liguria.sort_values('Deaths')).tail(1)"
      ],
      "execution_count": 45,
      "outputs": [
        {
          "output_type": "execute_result",
          "data": {
            "text/html": [
              "<div>\n",
              "<style scoped>\n",
              "    .dataframe tbody tr th:only-of-type {\n",
              "        vertical-align: middle;\n",
              "    }\n",
              "\n",
              "    .dataframe tbody tr th {\n",
              "        vertical-align: top;\n",
              "    }\n",
              "\n",
              "    .dataframe thead th {\n",
              "        text-align: right;\n",
              "    }\n",
              "</style>\n",
              "<table border=\"1\" class=\"dataframe\">\n",
              "  <thead>\n",
              "    <tr style=\"text-align: right;\">\n",
              "      <th></th>\n",
              "      <th>SNo</th>\n",
              "      <th>Date</th>\n",
              "      <th>Country</th>\n",
              "      <th>RegionCode</th>\n",
              "      <th>RegionName</th>\n",
              "      <th>Latitude</th>\n",
              "      <th>Longitude</th>\n",
              "      <th>HospitalizedPatients</th>\n",
              "      <th>IntensiveCarePatients</th>\n",
              "      <th>TotalHospitalizedPatients</th>\n",
              "      <th>HomeConfinement</th>\n",
              "      <th>CurrentPositiveCases</th>\n",
              "      <th>NewPositiveCases</th>\n",
              "      <th>Recovered</th>\n",
              "      <th>Deaths</th>\n",
              "      <th>TotalPositiveCases</th>\n",
              "      <th>TestsPerformed</th>\n",
              "    </tr>\n",
              "  </thead>\n",
              "  <tbody>\n",
              "    <tr>\n",
              "      <th>3094</th>\n",
              "      <td>3094</td>\n",
              "      <td>2020-07-20T17:00:00</td>\n",
              "      <td>ITA</td>\n",
              "      <td>7</td>\n",
              "      <td>Liguria</td>\n",
              "      <td>44.411493</td>\n",
              "      <td>8.932699</td>\n",
              "      <td>28</td>\n",
              "      <td>0</td>\n",
              "      <td>28</td>\n",
              "      <td>157</td>\n",
              "      <td>185</td>\n",
              "      <td>12</td>\n",
              "      <td>8355</td>\n",
              "      <td>1565</td>\n",
              "      <td>10105</td>\n",
              "      <td>91898.0</td>\n",
              "    </tr>\n",
              "  </tbody>\n",
              "</table>\n",
              "</div>"
            ],
            "text/plain": [
              "       SNo                 Date  ... TotalPositiveCases  TestsPerformed\n",
              "3094  3094  2020-07-20T17:00:00  ...              10105         91898.0\n",
              "\n",
              "[1 rows x 17 columns]"
            ]
          },
          "metadata": {
            "tags": []
          },
          "execution_count": 45
        }
      ]
    },
    {
      "cell_type": "code",
      "metadata": {
        "id": "kiHFM1_KWIuR",
        "colab_type": "code",
        "colab": {
          "base_uri": "https://localhost:8080/",
          "height": 117
        },
        "outputId": "1a782b05-c007-4faf-dcf0-482c8c0f5699"
      },
      "source": [
        "(basilicata.sort_values('Deaths')).tail(1)"
      ],
      "execution_count": 46,
      "outputs": [
        {
          "output_type": "execute_result",
          "data": {
            "text/html": [
              "<div>\n",
              "<style scoped>\n",
              "    .dataframe tbody tr th:only-of-type {\n",
              "        vertical-align: middle;\n",
              "    }\n",
              "\n",
              "    .dataframe tbody tr th {\n",
              "        vertical-align: top;\n",
              "    }\n",
              "\n",
              "    .dataframe thead th {\n",
              "        text-align: right;\n",
              "    }\n",
              "</style>\n",
              "<table border=\"1\" class=\"dataframe\">\n",
              "  <thead>\n",
              "    <tr style=\"text-align: right;\">\n",
              "      <th></th>\n",
              "      <th>SNo</th>\n",
              "      <th>Date</th>\n",
              "      <th>Country</th>\n",
              "      <th>RegionCode</th>\n",
              "      <th>RegionName</th>\n",
              "      <th>Latitude</th>\n",
              "      <th>Longitude</th>\n",
              "      <th>HospitalizedPatients</th>\n",
              "      <th>IntensiveCarePatients</th>\n",
              "      <th>TotalHospitalizedPatients</th>\n",
              "      <th>HomeConfinement</th>\n",
              "      <th>CurrentPositiveCases</th>\n",
              "      <th>NewPositiveCases</th>\n",
              "      <th>Recovered</th>\n",
              "      <th>Deaths</th>\n",
              "      <th>TotalPositiveCases</th>\n",
              "      <th>TestsPerformed</th>\n",
              "    </tr>\n",
              "  </thead>\n",
              "  <tbody>\n",
              "    <tr>\n",
              "      <th>3088</th>\n",
              "      <td>3088</td>\n",
              "      <td>2020-07-20T17:00:00</td>\n",
              "      <td>ITA</td>\n",
              "      <td>17</td>\n",
              "      <td>Basilicata</td>\n",
              "      <td>40.639471</td>\n",
              "      <td>15.805148</td>\n",
              "      <td>2</td>\n",
              "      <td>0</td>\n",
              "      <td>2</td>\n",
              "      <td>5</td>\n",
              "      <td>7</td>\n",
              "      <td>0</td>\n",
              "      <td>373</td>\n",
              "      <td>28</td>\n",
              "      <td>408</td>\n",
              "      <td>43486.0</td>\n",
              "    </tr>\n",
              "  </tbody>\n",
              "</table>\n",
              "</div>"
            ],
            "text/plain": [
              "       SNo                 Date  ... TotalPositiveCases  TestsPerformed\n",
              "3088  3088  2020-07-20T17:00:00  ...                408         43486.0\n",
              "\n",
              "[1 rows x 17 columns]"
            ]
          },
          "metadata": {
            "tags": []
          },
          "execution_count": 46
        }
      ]
    },
    {
      "cell_type": "markdown",
      "metadata": {
        "id": "SP--iGesURCD",
        "colab_type": "text"
      },
      "source": [
        "The value in \"Deaths\" is cumulative, so the row corresponding to the _most recent_ date contains the total number of deaths in the region.\n",
        "\n",
        "### Death Rate\n",
        "_total dead / total positive_\n",
        "\n",
        "* Lombardia: **17.58%**\n",
        "* Piemonte: **13.06%**\n",
        "* Emilia-Romagna: **14.63%**\n",
        "* Veneto: **10.43%**\n",
        "* Toscana: **10.89%**\n",
        "* Liguria: **10.49%**\n",
        "* Basilicata: **6.96%**"
      ]
    },
    {
      "cell_type": "code",
      "metadata": {
        "id": "5Vj6WUszURaN",
        "colab_type": "code",
        "colab": {}
      },
      "source": [
        ""
      ],
      "execution_count": null,
      "outputs": []
    }
  ]
}